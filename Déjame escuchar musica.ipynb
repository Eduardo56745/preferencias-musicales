{
 "cells": [
  {
   "cell_type": "markdown",
   "metadata": {
    "id": "E0vqbgi9ay0H"
   },
   "source": [
    "# Déjame escuchar la música"
   ]
  },
  {
   "cell_type": "markdown",
   "metadata": {
    "id": "fhq_eyov_Zcs"
   },
   "source": [
    "# Contenido <a id='back'></a>\n",
    "\n",
    "* [Introducción](#intro)\n",
    "* [Etapa 1. Descripción de los datos](#data_review)\n",
    "    * [Conclusiones](#data_review_conclusions)\n",
    "* [Etapa 2. Preprocesamiento de datos](#data_preprocessing)\n",
    "    * [2.1 Estilo del encabezado](#header_style)\n",
    "    * [2.2 Valores ausentes](#missing_values)\n",
    "    * [2.3 Duplicados](#duplicates)\n",
    "    * [2.4 Conclusiones](#data_preprocessing_conclusions)\n",
    "* [Etapa 3. Prueba de hipótesis](#hypothesis)\n",
    "    * [3.1 Hipótesis 1: actividad de los usuarios y las usuarias en las dos ciudades](#activity)\n",
    "* [Conclusiones](#end)"
   ]
  },
  {
   "cell_type": "markdown",
   "metadata": {
    "id": "VUC88oWjTJw2"
   },
   "source": [
    "## Introducción <a id='intro'></a>\n",
    "Como analista de datos, tu trabajo consiste en analizar datos para extraer información valiosa y tomar decisiones basadas en ellos. Esto implica diferentes etapas, como la descripción general de los datos, el preprocesamiento y la prueba de hipótesis.\n",
    "\n",
    "Siempre que investigamos, necesitamos formular hipótesis que después podamos probar. A veces aceptamos estas hipótesis; otras veces, las rechazamos. Para tomar las decisiones correctas, una empresa debe ser capaz de entender si está haciendo las suposiciones correctas.\n",
    "\n",
    "En este proyecto, compararás las preferencias musicales de las ciudades de Springfield y Shelbyville. Estudiarás datos reales de transmisión de música online para probar la hipótesis a continuación y comparar el comportamiento de los usuarios y las usuarias de estas dos ciudades.\n",
    "\n",
    "### Objetivo:\n",
    "Prueba la hipótesis:\n",
    "1. La actividad de los usuarios y las usuarias difiere según el día de la semana y dependiendo de la ciudad.\n",
    "\n",
    "\n",
    "### Etapas\n",
    "Los datos del comportamiento del usuario se almacenan en el archivo `/datasets/music_project_en.csv`. No hay ninguna información sobre la calidad de los datos, así que necesitarás examinarlos antes de probar la hipótesis.\n",
    "\n",
    "Primero, evaluarás la calidad de los datos y verás si los problemas son significativos. Entonces, durante el preprocesamiento de datos, tomarás en cuenta los problemas más críticos.\n",
    "\n",
    "Tu proyecto consistirá en tres etapas:\n",
    " 1. Descripción de los datos.\n",
    " 2. Preprocesamiento de datos.\n",
    " 3. Prueba de hipótesis.\n",
    "\n",
    "\n",
    "\n",
    "\n",
    "\n",
    "\n"
   ]
  },
  {
   "cell_type": "markdown",
   "metadata": {
    "id": "hDt6pg-Rw-1U"
   },
   "source": [
    "[Volver a Contenidos](#back)"
   ]
  },
  {
   "cell_type": "markdown",
   "metadata": {
    "id": "Ml1hmfXC_Zcs"
   },
   "source": [
    "## Etapa 1. Descripción de los datos <a id='data_review'></a>\n",
    "\n",
    "Abre los datos y examínalos."
   ]
  },
  {
   "cell_type": "markdown",
   "metadata": {
    "id": "57eAOGIz_Zcs"
   },
   "source": [
    "Necesitarás `pandas`, así que impórtalo."
   ]
  },
  {
   "cell_type": "code",
   "execution_count": 1,
   "metadata": {
    "id": "AXN7PHPN_Zcs"
   },
   "outputs": [],
   "source": [
    "# Importar pandas\n",
    "import pandas as pd"
   ]
  },
  {
   "cell_type": "markdown",
   "metadata": {
    "id": "SG23P8tt_Zcs"
   },
   "source": [
    "Lee el archivo `music_project_en.csv` de la carpeta `/datasets/` y guárdalo en la variable `df`:"
   ]
  },
  {
   "cell_type": "code",
   "execution_count": 2,
   "metadata": {
    "id": "fFVu7vqh_Zct"
   },
   "outputs": [],
   "source": [
    "# Leer el archivo y almacenarlo en df\n",
    "df = pd.read_csv(\"/datasets/music_project_en.csv\")"
   ]
  },
  {
   "cell_type": "markdown",
   "metadata": {
    "id": "rDoOMd3uTqnZ"
   },
   "source": [
    "Muestra las 10 primeras filas de la tabla:"
   ]
  },
  {
   "cell_type": "code",
   "execution_count": 3,
   "metadata": {
    "id": "oWTVX3gW_Zct"
   },
   "outputs": [
    {
     "data": {
      "text/html": [
       "<div>\n",
       "<style scoped>\n",
       "    .dataframe tbody tr th:only-of-type {\n",
       "        vertical-align: middle;\n",
       "    }\n",
       "\n",
       "    .dataframe tbody tr th {\n",
       "        vertical-align: top;\n",
       "    }\n",
       "\n",
       "    .dataframe thead th {\n",
       "        text-align: right;\n",
       "    }\n",
       "</style>\n",
       "<table border=\"1\" class=\"dataframe\">\n",
       "  <thead>\n",
       "    <tr style=\"text-align: right;\">\n",
       "      <th></th>\n",
       "      <th>userID</th>\n",
       "      <th>Track</th>\n",
       "      <th>artist</th>\n",
       "      <th>genre</th>\n",
       "      <th>City</th>\n",
       "      <th>time</th>\n",
       "      <th>Day</th>\n",
       "    </tr>\n",
       "  </thead>\n",
       "  <tbody>\n",
       "    <tr>\n",
       "      <th>0</th>\n",
       "      <td>FFB692EC</td>\n",
       "      <td>Kamigata To Boots</td>\n",
       "      <td>The Mass Missile</td>\n",
       "      <td>rock</td>\n",
       "      <td>Shelbyville</td>\n",
       "      <td>20:28:33</td>\n",
       "      <td>Wednesday</td>\n",
       "    </tr>\n",
       "    <tr>\n",
       "      <th>1</th>\n",
       "      <td>55204538</td>\n",
       "      <td>Delayed Because of Accident</td>\n",
       "      <td>Andreas Rönnberg</td>\n",
       "      <td>rock</td>\n",
       "      <td>Springfield</td>\n",
       "      <td>14:07:09</td>\n",
       "      <td>Friday</td>\n",
       "    </tr>\n",
       "    <tr>\n",
       "      <th>2</th>\n",
       "      <td>20EC38</td>\n",
       "      <td>Funiculì funiculà</td>\n",
       "      <td>Mario Lanza</td>\n",
       "      <td>pop</td>\n",
       "      <td>Shelbyville</td>\n",
       "      <td>20:58:07</td>\n",
       "      <td>Wednesday</td>\n",
       "    </tr>\n",
       "    <tr>\n",
       "      <th>3</th>\n",
       "      <td>A3DD03C9</td>\n",
       "      <td>Dragons in the Sunset</td>\n",
       "      <td>Fire + Ice</td>\n",
       "      <td>folk</td>\n",
       "      <td>Shelbyville</td>\n",
       "      <td>08:37:09</td>\n",
       "      <td>Monday</td>\n",
       "    </tr>\n",
       "    <tr>\n",
       "      <th>4</th>\n",
       "      <td>E2DC1FAE</td>\n",
       "      <td>Soul People</td>\n",
       "      <td>Space Echo</td>\n",
       "      <td>dance</td>\n",
       "      <td>Springfield</td>\n",
       "      <td>08:34:34</td>\n",
       "      <td>Monday</td>\n",
       "    </tr>\n",
       "    <tr>\n",
       "      <th>5</th>\n",
       "      <td>842029A1</td>\n",
       "      <td>Chains</td>\n",
       "      <td>Obladaet</td>\n",
       "      <td>rusrap</td>\n",
       "      <td>Shelbyville</td>\n",
       "      <td>13:09:41</td>\n",
       "      <td>Friday</td>\n",
       "    </tr>\n",
       "    <tr>\n",
       "      <th>6</th>\n",
       "      <td>4CB90AA5</td>\n",
       "      <td>True</td>\n",
       "      <td>Roman Messer</td>\n",
       "      <td>dance</td>\n",
       "      <td>Springfield</td>\n",
       "      <td>13:00:07</td>\n",
       "      <td>Wednesday</td>\n",
       "    </tr>\n",
       "    <tr>\n",
       "      <th>7</th>\n",
       "      <td>F03E1C1F</td>\n",
       "      <td>Feeling This Way</td>\n",
       "      <td>Polina Griffith</td>\n",
       "      <td>dance</td>\n",
       "      <td>Springfield</td>\n",
       "      <td>20:47:49</td>\n",
       "      <td>Wednesday</td>\n",
       "    </tr>\n",
       "    <tr>\n",
       "      <th>8</th>\n",
       "      <td>8FA1D3BE</td>\n",
       "      <td>L’estate</td>\n",
       "      <td>Julia Dalia</td>\n",
       "      <td>ruspop</td>\n",
       "      <td>Springfield</td>\n",
       "      <td>09:17:40</td>\n",
       "      <td>Friday</td>\n",
       "    </tr>\n",
       "    <tr>\n",
       "      <th>9</th>\n",
       "      <td>E772D5C0</td>\n",
       "      <td>Pessimist</td>\n",
       "      <td>NaN</td>\n",
       "      <td>dance</td>\n",
       "      <td>Shelbyville</td>\n",
       "      <td>21:20:49</td>\n",
       "      <td>Wednesday</td>\n",
       "    </tr>\n",
       "  </tbody>\n",
       "</table>\n",
       "</div>"
      ],
      "text/plain": [
       "     userID                        Track            artist   genre  \\\n",
       "0  FFB692EC            Kamigata To Boots  The Mass Missile    rock   \n",
       "1  55204538  Delayed Because of Accident  Andreas Rönnberg    rock   \n",
       "2    20EC38            Funiculì funiculà       Mario Lanza     pop   \n",
       "3  A3DD03C9        Dragons in the Sunset        Fire + Ice    folk   \n",
       "4  E2DC1FAE                  Soul People        Space Echo   dance   \n",
       "5  842029A1                       Chains          Obladaet  rusrap   \n",
       "6  4CB90AA5                         True      Roman Messer   dance   \n",
       "7  F03E1C1F             Feeling This Way   Polina Griffith   dance   \n",
       "8  8FA1D3BE                     L’estate       Julia Dalia  ruspop   \n",
       "9  E772D5C0                    Pessimist               NaN   dance   \n",
       "\n",
       "        City        time        Day  \n",
       "0  Shelbyville  20:28:33  Wednesday  \n",
       "1  Springfield  14:07:09     Friday  \n",
       "2  Shelbyville  20:58:07  Wednesday  \n",
       "3  Shelbyville  08:37:09     Monday  \n",
       "4  Springfield  08:34:34     Monday  \n",
       "5  Shelbyville  13:09:41     Friday  \n",
       "6  Springfield  13:00:07  Wednesday  \n",
       "7  Springfield  20:47:49  Wednesday  \n",
       "8  Springfield  09:17:40     Friday  \n",
       "9  Shelbyville  21:20:49  Wednesday  "
      ]
     },
     "execution_count": 3,
     "metadata": {},
     "output_type": "execute_result"
    }
   ],
   "source": [
    "# Obtener las 10 primeras filas de la tabla df\n",
    "df.head(10)"
   ]
  },
  {
   "cell_type": "markdown",
   "metadata": {
    "id": "EO73Kwic_Zct"
   },
   "source": [
    "Obtén la información general sobre la tabla con un comando. Conoces el método que muestra la información general que necesitamos."
   ]
  },
  {
   "cell_type": "code",
   "execution_count": 4,
   "metadata": {
    "id": "DSf2kIb-_Zct"
   },
   "outputs": [
    {
     "name": "stdout",
     "output_type": "stream",
     "text": [
      "<class 'pandas.core.frame.DataFrame'>\n",
      "RangeIndex: 65079 entries, 0 to 65078\n",
      "Data columns (total 7 columns):\n",
      " #   Column    Non-Null Count  Dtype \n",
      "---  ------    --------------  ----- \n",
      " 0     userID  65079 non-null  object\n",
      " 1   Track     63736 non-null  object\n",
      " 2   artist    57512 non-null  object\n",
      " 3   genre     63881 non-null  object\n",
      " 4     City    65079 non-null  object\n",
      " 5   time      65079 non-null  object\n",
      " 6   Day       65079 non-null  object\n",
      "dtypes: object(7)\n",
      "memory usage: 3.5+ MB\n"
     ]
    }
   ],
   "source": [
    "# Obtener la información general sobre nuestros datos\n",
    "df.info()"
   ]
  },
  {
   "cell_type": "markdown",
   "metadata": {
    "id": "TaQ2Iwbr_Zct"
   },
   "source": [
    "Estas son nuestras observaciones sobre la tabla. Contiene siete columnas. Almacenan los mismos tipos de datos: `object`.\n",
    "\n",
    "Según la documentación:\n",
    "- `' userID'`: identificador del usuario o la usuaria;\n",
    "- `'Track'`: título de la canción;\n",
    "- `'artist'`: nombre del artista;\n",
    "- `'genre'`: género de la pista;\n",
    "- `'City'`: ciudad del usuario o la usuaria;\n",
    "- `'time'`: la hora exacta en la que se reprodujo la canción;\n",
    "- `'Day'`: día de la semana.\n",
    "\n",
    "Podemos ver tres problemas con el estilo en los encabezados de la tabla:\n",
    "1. Algunos encabezados están en mayúsculas, otros en minúsculas.\n",
    "2. Hay espacios en algunos encabezados.\n",
    "3. `Detecta el tercer problema por tu cuenta y descríbelo aquí`.\n",
    "' userID' debería de ser 'user_id'\n",
    "\n"
   ]
  },
  {
   "cell_type": "markdown",
   "metadata": {
    "id": "MCB6-dXG_Zct"
   },
   "source": [
    "### Escribe observaciones de tu parte. Estas son algunas de las preguntas que pueden ser útiles: <a id='data_review_conclusions'></a>\n",
    "\n",
    "`1.   ¿Qué tipo de datos tenemos a nuestra disposición en las filas? ¿Y cómo podemos entender lo que almacenan las columnas?`\n",
    "\n",
    "`2.   ¿Hay suficientes datos para proporcionar respuestas a nuestra hipótesis o necesitamos más información?`\n",
    "\n",
    "`3.   ¿Notaste algún problema en los datos, como valores ausentes, duplicados o tipos de datos incorrectos?`\n",
    "Tenemos suficiente información, tenemos el día de la semana en la que se reprodujeron las canciones y la ciudad, entonces pienso que sería más que suficiente, también encontré un valor boleano 'True' en 'track', aunque puede ser el nombre de una canción y encontré un valor ausente en Nan en 'artist'. Las filas nos muestran las canciones que reprodujo cada usuario por nombre de la canción, artista, genero, ciudad, hora y día.\n",
    "Las 7 columnas aparencen que tienen menos datos no nulos que 65078 con exactamente 61253, entonces las 7 columnas cuentan con datos nulos."
   ]
  },
  {
   "cell_type": "markdown",
   "metadata": {
    "id": "3eL__vcwViOi"
   },
   "source": [
    "[Volver a Contenidos](#back)"
   ]
  },
  {
   "cell_type": "markdown",
   "metadata": {
    "id": "SjYF6Ub9_Zct"
   },
   "source": [
    "## Etapa 2. Preprocesamiento de datos <a id='data_preprocessing'></a>\n",
    "\n",
    "El objetivo aquí es preparar los datos para que sean analizados.\n",
    "El primer paso es resolver cualquier problema con los encabezados. Luego podemos avanzar a los valores ausentes y duplicados. Empecemos.\n",
    "\n",
    "Corrige el formato en los encabezados de la tabla.\n"
   ]
  },
  {
   "cell_type": "markdown",
   "metadata": {
    "id": "dIaKXr29_Zct"
   },
   "source": [
    "### Estilo del encabezado <a id='header_style'></a>\n",
    "Muestra los encabezados de la tabla (los nombres de las columnas):"
   ]
  },
  {
   "cell_type": "code",
   "execution_count": 5,
   "metadata": {
    "id": "oKOTdF_Q_Zct"
   },
   "outputs": [
    {
     "name": "stdout",
     "output_type": "stream",
     "text": [
      "Index(['  userID', 'Track', 'artist', 'genre', '  City  ', 'time', 'Day'], dtype='object')\n"
     ]
    }
   ],
   "source": [
    "# Muestra los nombres de las columnas\n",
    "print(df.columns)"
   ]
  },
  {
   "cell_type": "markdown",
   "metadata": {
    "id": "zj5534cv_Zct"
   },
   "source": [
    "Cambia los encabezados de la tabla de acuerdo con las reglas del buen estilo:\n",
    "* Todos los caracteres deben ser minúsculas.\n",
    "* Elimina los espacios.\n",
    "* Si el nombre tiene varias palabras, utiliza snake_case."
   ]
  },
  {
   "cell_type": "markdown",
   "metadata": {
    "id": "Xu0zkfe5zNJe"
   },
   "source": [
    "Anteriormente, aprendiste acerca de la forma automática de cambiar el nombre de las columnas. Vamos a aplicarla ahora. Utiliza el bucle for para iterar sobre los nombres de las columnas y poner todos los caracteres en minúsculas. Cuando hayas terminado, vuelve a mostrar los encabezados de la tabla:"
   ]
  },
  {
   "cell_type": "code",
   "execution_count": 6,
   "metadata": {
    "id": "6I_RwwMhzM4e"
   },
   "outputs": [
    {
     "name": "stdout",
     "output_type": "stream",
     "text": [
      "Index(['  userid', 'track', 'artist', 'genre', '  city  ', 'time', 'day'], dtype='object')\n"
     ]
    }
   ],
   "source": [
    "# Bucle en los encabezados poniendo todo en minúsculas\n",
    "df.columns = [column.lower() for column in df.columns]\n",
    "print(df.columns)"
   ]
  },
  {
   "cell_type": "markdown",
   "metadata": {
    "id": "pweIRxjSzPYW"
   },
   "source": [
    "Ahora, utilizando el mismo método, elimina los espacios al principio y al final de los nombres de las columnas e imprime los nombres de las columnas nuevamente:"
   ]
  },
  {
   "cell_type": "code",
   "execution_count": 7,
   "metadata": {
    "id": "vVQXbFyJzSYl"
   },
   "outputs": [
    {
     "name": "stdout",
     "output_type": "stream",
     "text": [
      "Index(['userid', 'track', 'artist', 'genre', 'city', 'time', 'day'], dtype='object')\n"
     ]
    }
   ],
   "source": [
    "# Bucle en los encabezados eliminando los espacios\n",
    "df.columns = [column.replace(' ', '') for column in df.columns]\n",
    "print(df.columns)"
   ]
  },
  {
   "cell_type": "markdown",
   "metadata": {
    "id": "yCb8MW1JzURd"
   },
   "source": [
    "Necesitamos aplicar la regla de snake_case a la columna `userid`. Debe ser `user_id`. Cambia el nombre de esta columna y muestra los nombres de todas las columnas cuando hayas terminado."
   ]
  },
  {
   "cell_type": "code",
   "execution_count": 8,
   "metadata": {
    "id": "ISlFqs5y_Zct"
   },
   "outputs": [
    {
     "name": "stdout",
     "output_type": "stream",
     "text": [
      "Index(['user_id', 'track', 'artist', 'genre', 'city', 'time', 'day'], dtype='object')\n"
     ]
    }
   ],
   "source": [
    "# Cambiar el nombre de la columna \"userid\"\n",
    "df.columns = [column.replace('userid', 'user_id') for column in df.columns]\n",
    "print(df.columns)"
   ]
  },
  {
   "cell_type": "markdown",
   "metadata": {
    "id": "1dqbh00J_Zct"
   },
   "source": [
    "Comprueba el resultado. Muestra los encabezados una vez más:"
   ]
  },
  {
   "cell_type": "code",
   "execution_count": 9,
   "metadata": {
    "id": "d4NOAmTW_Zct"
   },
   "outputs": [
    {
     "name": "stdout",
     "output_type": "stream",
     "text": [
      "Index(['user_id', 'track', 'artist', 'genre', 'city', 'time', 'day'], dtype='object')\n"
     ]
    }
   ],
   "source": [
    "# Comprobar el resultado: la lista de encabezados\n",
    "print(df.columns)"
   ]
  },
  {
   "cell_type": "markdown",
   "metadata": {
    "id": "xYJk6ksJVpOl"
   },
   "source": [
    "[Volver a Contenidos](#back)"
   ]
  },
  {
   "cell_type": "markdown",
   "metadata": {
    "id": "5ISfbcfY_Zct"
   },
   "source": [
    "### Valores ausentes <a id='missing_values'></a>\n",
    " Primero, encuentra el número de valores ausentes en la tabla. Debes utilizar dos métodos en una secuencia para obtener el número de valores ausentes."
   ]
  },
  {
   "cell_type": "code",
   "execution_count": 10,
   "metadata": {
    "id": "RskX29qr_Zct"
   },
   "outputs": [
    {
     "name": "stdout",
     "output_type": "stream",
     "text": [
      "user_id       0\n",
      "track      1343\n",
      "artist     7567\n",
      "genre      1198\n",
      "city          0\n",
      "time          0\n",
      "day           0\n",
      "dtype: int64\n"
     ]
    }
   ],
   "source": [
    "# Calcular el número de valores ausentes\n",
    "print(df.isnull().sum())"
   ]
  },
  {
   "cell_type": "markdown",
   "metadata": {
    "id": "qubhgnlO_Zct"
   },
   "source": [
    "No todos los valores ausentes afectan a la investigación. Por ejemplo, los valores ausentes en `track` y `artist` no son cruciales. Simplemente puedes reemplazarlos con valores predeterminados como el string `'unknown'` (desconocido).\n",
    "\n",
    "Pero los valores ausentes en `'genre'` pueden afectar la comparación entre las preferencias musicales de Springfield y Shelbyville. En la vida real, sería útil saber las razones por las cuales hay datos ausentes e intentar recuperarlos. Pero no tenemos esa oportunidad en este proyecto. Así que tendrás que:\n",
    "* rellenar estos valores ausentes con un valor predeterminado;\n",
    "* evaluar cuánto podrían afectar los valores ausentes a tus cómputos;"
   ]
  },
  {
   "cell_type": "markdown",
   "metadata": {
    "id": "fSv2laPA_Zct"
   },
   "source": [
    "Reemplazar los valores ausentes en las columnas `'track'`, `'artist'` y `'genre'` con el string `'unknown'`. Como mostramos anteriormente en las lecciones, la mejor forma de hacerlo es crear una lista que almacene los nombres de las columnas donde se necesita el reemplazo. Luego, utiliza esta lista e itera sobre las columnas donde se necesita el reemplazo haciendo el propio reemplazo."
   ]
  },
  {
   "cell_type": "code",
   "execution_count": 11,
   "metadata": {
    "id": "KplB5qWs_Zct"
   },
   "outputs": [],
   "source": [
    "# Bucle en los encabezados reemplazando los valores ausentes con 'unknown'\n",
    "columns_to_replace = ['track', 'artist', 'genre']\n",
    "\n",
    "for column in columns_to_replace:\n",
    "    df[column] = df[column].fillna('unknown')"
   ]
  },
  {
   "cell_type": "markdown",
   "metadata": {
    "id": "Ilsm-MZo_Zct"
   },
   "source": [
    "Ahora comprueba el resultado para asegurarte de que después del reemplazo no haya valores ausentes en el conjunto de datos. Para hacer esto, cuenta los valores ausentes nuevamente."
   ]
  },
  {
   "cell_type": "code",
   "execution_count": 12,
   "metadata": {
    "id": "Tq4nYRX4_Zct"
   },
   "outputs": [
    {
     "name": "stdout",
     "output_type": "stream",
     "text": [
      "user_id    0\n",
      "track      0\n",
      "artist     0\n",
      "genre      0\n",
      "city       0\n",
      "time       0\n",
      "day        0\n",
      "dtype: int64\n"
     ]
    }
   ],
   "source": [
    "# Contar valores ausentes\n",
    "print(df.isnull().sum())"
   ]
  },
  {
   "cell_type": "markdown",
   "metadata": {
    "id": "74ZIBmq9VrsK"
   },
   "source": [
    "[Volver a Contenidos](#back)"
   ]
  },
  {
   "cell_type": "markdown",
   "metadata": {
    "id": "BWKRtBJ3_Zct"
   },
   "source": [
    "### Duplicados <a id='duplicates'></a>\n",
    "Encuentra el número de duplicados explícitos en la tabla. Una vez más, debes aplicar dos métodos en una secuencia para obtener la cantidad de duplicados explícitos."
   ]
  },
  {
   "cell_type": "code",
   "execution_count": 13,
   "metadata": {
    "id": "36eES_S0_Zct"
   },
   "outputs": [
    {
     "name": "stdout",
     "output_type": "stream",
     "text": [
      "3826\n"
     ]
    }
   ],
   "source": [
    "# Contar duplicados explícitos\n",
    "print(df.duplicated().sum())"
   ]
  },
  {
   "cell_type": "markdown",
   "metadata": {
    "id": "Ot25h6XR_Zct"
   },
   "source": [
    "Ahora, elimina todos los duplicados. Para ello, llama al método que hace exactamente esto."
   ]
  },
  {
   "cell_type": "code",
   "execution_count": 14,
   "metadata": {
    "id": "exFHq6tt_Zct"
   },
   "outputs": [],
   "source": [
    "# Eliminar duplicados explícitos\n",
    "df.drop_duplicates(inplace=True)"
   ]
  },
  {
   "cell_type": "markdown",
   "metadata": {
    "id": "Im2YwBEG_Zct"
   },
   "source": [
    "Comprobemos ahora si eliminamos con éxito todos los duplicados. Cuenta los duplicados explícitos una vez más para asegurarte de haberlos eliminado todos:"
   ]
  },
  {
   "cell_type": "code",
   "execution_count": 15,
   "metadata": {
    "id": "-8PuNWQ0_Zct"
   },
   "outputs": [
    {
     "name": "stdout",
     "output_type": "stream",
     "text": [
      "0\n"
     ]
    }
   ],
   "source": [
    "# Comprobar de nuevo si hay duplicados\n",
    "\n",
    "print(df.duplicated().sum())"
   ]
  },
  {
   "cell_type": "markdown",
   "metadata": {
    "id": "QlFBsxAr_Zct"
   },
   "source": [
    "Ahora queremos deshacernos de los duplicados implícitos en la columna `genre`. Por ejemplo, el nombre de un género se puede escribir de varias formas. Dichos errores también pueden afectar al resultado."
   ]
  },
  {
   "cell_type": "markdown",
   "metadata": {
    "id": "eSjWwsOh_Zct"
   },
   "source": [
    "Para hacerlo, primero mostremos una lista de nombres de género únicos, ordenados en orden alfabético. Para ello:\n",
    "* Extrae la columna `genre` del DataFrame.\n",
    "* Llama al método que devolverá todos los valores únicos en la columna extraída.\n"
   ]
  },
  {
   "cell_type": "code",
   "execution_count": 16,
   "metadata": {
    "id": "JIUcqzZN_Zct"
   },
   "outputs": [
    {
     "name": "stdout",
     "output_type": "stream",
     "text": [
      "269\n",
      "\n",
      "['acid' 'acoustic' 'action' 'adult' 'africa' 'afrikaans' 'alternative'\n",
      " 'ambient' 'americana' 'animated' 'anime' 'arabesk' 'arabic' 'arena'\n",
      " 'argentinetango' 'art' 'audiobook' 'avantgarde' 'axé' 'baile' 'balkan'\n",
      " 'beats' 'bigroom' 'black' 'bluegrass' 'blues' 'bollywood' 'bossa'\n",
      " 'brazilian' 'breakbeat' 'breaks' 'broadway' 'cantautori' 'cantopop'\n",
      " 'canzone' 'caribbean' 'caucasian' 'celtic' 'chamber' 'children' 'chill'\n",
      " 'chinese' 'choral' 'christian' 'christmas' 'classical' 'classicmetal'\n",
      " 'club' 'colombian' 'comedy' 'conjazz' 'contemporary' 'country' 'cuban'\n",
      " 'dance' 'dancehall' 'dancepop' 'dark' 'death' 'deep' 'deutschrock'\n",
      " 'deutschspr' 'dirty' 'disco' 'dnb' 'documentary' 'downbeat' 'downtempo'\n",
      " 'drum' 'dub' 'dubstep' 'eastern' 'easy' 'electronic' 'electropop' 'emo'\n",
      " 'entehno' 'epicmetal' 'estrada' 'ethnic' 'eurofolk' 'european'\n",
      " 'experimental' 'extrememetal' 'fado' 'film' 'fitness' 'flamenco' 'folk'\n",
      " 'folklore' 'folkmetal' 'folkrock' 'folktronica' 'forró' 'frankreich'\n",
      " 'französisch' 'french' 'funk' 'future' 'gangsta' 'garage' 'german'\n",
      " 'ghazal' 'gitarre' 'glitch' 'gospel' 'gothic' 'grime' 'grunge' 'gypsy'\n",
      " 'handsup' \"hard'n'heavy\" 'hardcore' 'hardstyle' 'hardtechno' 'hip'\n",
      " 'hip-hop' 'hiphop' 'historisch' 'holiday' 'hop' 'horror' 'house' 'idm'\n",
      " 'independent' 'indian' 'indie' 'indipop' 'industrial' 'inspirational'\n",
      " 'instrumental' 'international' 'irish' 'jam' 'japanese' 'jazz' 'jewish'\n",
      " 'jpop' 'jungle' 'k-pop' 'karadeniz' 'karaoke' 'kayokyoku' 'korean'\n",
      " 'laiko' 'latin' 'latino' 'leftfield' 'local' 'lounge' 'loungeelectronic'\n",
      " 'lovers' 'malaysian' 'mandopop' 'marschmusik' 'meditative'\n",
      " 'mediterranean' 'melodic' 'metal' 'metalcore' 'mexican' 'middle'\n",
      " 'minimal' 'miscellaneous' 'modern' 'mood' 'mpb' 'muslim' 'native'\n",
      " 'neoklassik' 'neue' 'new' 'newage' 'newwave' 'nu' 'nujazz' 'numetal'\n",
      " 'oceania' 'old' 'opera' 'orchestral' 'other' 'piano' 'pop'\n",
      " 'popelectronic' 'popeurodance' 'post' 'posthardcore' 'postrock' 'power'\n",
      " 'progmetal' 'progressive' 'psychedelic' 'punjabi' 'punk' 'quebecois'\n",
      " 'ragga' 'ram' 'rancheras' 'rap' 'rave' 'reggae' 'reggaeton' 'regional'\n",
      " 'relax' 'religious' 'retro' 'rhythm' 'rnb' 'rnr' 'rock' 'rockabilly'\n",
      " 'romance' 'roots' 'ruspop' 'rusrap' 'rusrock' 'salsa' 'samba' 'schlager'\n",
      " 'self' 'sertanejo' 'shoegazing' 'showtunes' 'singer' 'ska' 'slow'\n",
      " 'smooth' 'soul' 'soulful' 'sound' 'soundtrack' 'southern' 'specialty'\n",
      " 'speech' 'spiritual' 'sport' 'stonerrock' 'surf' 'swing' 'synthpop'\n",
      " 'sängerportrait' 'tango' 'tanzorchester' 'taraftar' 'tech' 'techno'\n",
      " 'thrash' 'top' 'traditional' 'tradjazz' 'trance' 'tribal' 'trip'\n",
      " 'triphop' 'tropical' 'türk' 'türkçe' 'unknown' 'urban' 'uzbek' 'variété'\n",
      " 'vi' 'videogame' 'vocal' 'western' 'world' 'worldbeat' 'ïîï']\n"
     ]
    }
   ],
   "source": [
    "# Inspeccionar los nombres de géneros únicos\n",
    "print(df['genre'].nunique())\n",
    "print()\n",
    "print(df['genre'].sort_values().unique())"
   ]
  },
  {
   "cell_type": "markdown",
   "metadata": {
    "id": "qej-Qmuo_Zct"
   },
   "source": [
    "Busca en la lista para encontrar duplicados implícitos del género `hiphop`. Estos pueden ser nombres escritos incorrectamente o nombres alternativos para el mismo género.\n",
    "\n",
    "Verás los siguientes duplicados implícitos:\n",
    "* `hip`\n",
    "* `hop`\n",
    "* `hip-hop`\n",
    "\n",
    "Para deshacerte de ellos, crea una función llamada `replace_wrong_genres()` con dos parámetros:\n",
    "* `wrong_genres=`: esta es una lista que contiene todos los valores que necesitas reemplazar.\n",
    "* `correct_genre=`: este es un string que vas a utilizar como reemplazo.\n",
    "\n",
    "Como resultado, la función debería corregir los nombres en la columna `'genre'` de la tabla `df`, es decir, remplazar cada valor de la lista `wrong_genres` por el valor en `correct_genre`.\n",
    "\n",
    "Dentro del cuerpo de la función, utiliza un bucle `'for'` para iterar sobre la lista de géneros incorrectos, extrae la columna `'genre'` y aplica el método `replace` para hacer correcciones."
   ]
  },
  {
   "cell_type": "code",
   "execution_count": 17,
   "metadata": {
    "id": "ErNDkmns_Zct"
   },
   "outputs": [],
   "source": [
    "# Función para reemplazar duplicados implícitos\n",
    "def replace_wrong_genres(wrong_genres, correct_genre):\n",
    "    for wrong_genre in wrong_genres:\n",
    "        df['genre'] = df['genre'].replace(wrong_genre, correct_genre)"
   ]
  },
  {
   "cell_type": "markdown",
   "metadata": {
    "id": "aDoBJxbA_Zct"
   },
   "source": [
    "Ahora, llama a `replace_wrong_genres()` y pásale tales argumentos para que retire los duplicados implícitos (`hip`, `hop` y `hip-hop`) y los reemplace por `hiphop`:"
   ]
  },
  {
   "cell_type": "code",
   "execution_count": 18,
   "metadata": {
    "id": "YN5i2hpmSo09"
   },
   "outputs": [],
   "source": [
    "# Eliminar duplicados implícitos\n",
    "\n",
    "wrong_genres = ['hip', 'hop', 'hip-hop']\n",
    "correct_genre = 'hiphop'\n",
    "\n",
    "replace_wrong_genres(wrong_genres, correct_genre)"
   ]
  },
  {
   "cell_type": "markdown",
   "metadata": {
    "id": "zQKF16_RG15m"
   },
   "source": [
    "Asegúrate de que los nombres duplicados han sido eliminados. Muestra la lista de valores únicos de la columna `'genre'` una vez más:"
   ]
  },
  {
   "cell_type": "code",
   "execution_count": 19,
   "metadata": {
    "id": "wvixALnFG15m"
   },
   "outputs": [
    {
     "name": "stdout",
     "output_type": "stream",
     "text": [
      "266\n",
      "\n",
      "['acid' 'acoustic' 'action' 'adult' 'africa' 'afrikaans' 'alternative'\n",
      " 'ambient' 'americana' 'animated' 'anime' 'arabesk' 'arabic' 'arena'\n",
      " 'argentinetango' 'art' 'audiobook' 'avantgarde' 'axé' 'baile' 'balkan'\n",
      " 'beats' 'bigroom' 'black' 'bluegrass' 'blues' 'bollywood' 'bossa'\n",
      " 'brazilian' 'breakbeat' 'breaks' 'broadway' 'cantautori' 'cantopop'\n",
      " 'canzone' 'caribbean' 'caucasian' 'celtic' 'chamber' 'children' 'chill'\n",
      " 'chinese' 'choral' 'christian' 'christmas' 'classical' 'classicmetal'\n",
      " 'club' 'colombian' 'comedy' 'conjazz' 'contemporary' 'country' 'cuban'\n",
      " 'dance' 'dancehall' 'dancepop' 'dark' 'death' 'deep' 'deutschrock'\n",
      " 'deutschspr' 'dirty' 'disco' 'dnb' 'documentary' 'downbeat' 'downtempo'\n",
      " 'drum' 'dub' 'dubstep' 'eastern' 'easy' 'electronic' 'electropop' 'emo'\n",
      " 'entehno' 'epicmetal' 'estrada' 'ethnic' 'eurofolk' 'european'\n",
      " 'experimental' 'extrememetal' 'fado' 'film' 'fitness' 'flamenco' 'folk'\n",
      " 'folklore' 'folkmetal' 'folkrock' 'folktronica' 'forró' 'frankreich'\n",
      " 'französisch' 'french' 'funk' 'future' 'gangsta' 'garage' 'german'\n",
      " 'ghazal' 'gitarre' 'glitch' 'gospel' 'gothic' 'grime' 'grunge' 'gypsy'\n",
      " 'handsup' \"hard'n'heavy\" 'hardcore' 'hardstyle' 'hardtechno' 'hiphop'\n",
      " 'historisch' 'holiday' 'horror' 'house' 'idm' 'independent' 'indian'\n",
      " 'indie' 'indipop' 'industrial' 'inspirational' 'instrumental'\n",
      " 'international' 'irish' 'jam' 'japanese' 'jazz' 'jewish' 'jpop' 'jungle'\n",
      " 'k-pop' 'karadeniz' 'karaoke' 'kayokyoku' 'korean' 'laiko' 'latin'\n",
      " 'latino' 'leftfield' 'local' 'lounge' 'loungeelectronic' 'lovers'\n",
      " 'malaysian' 'mandopop' 'marschmusik' 'meditative' 'mediterranean'\n",
      " 'melodic' 'metal' 'metalcore' 'mexican' 'middle' 'minimal'\n",
      " 'miscellaneous' 'modern' 'mood' 'mpb' 'muslim' 'native' 'neoklassik'\n",
      " 'neue' 'new' 'newage' 'newwave' 'nu' 'nujazz' 'numetal' 'oceania' 'old'\n",
      " 'opera' 'orchestral' 'other' 'piano' 'pop' 'popelectronic' 'popeurodance'\n",
      " 'post' 'posthardcore' 'postrock' 'power' 'progmetal' 'progressive'\n",
      " 'psychedelic' 'punjabi' 'punk' 'quebecois' 'ragga' 'ram' 'rancheras'\n",
      " 'rap' 'rave' 'reggae' 'reggaeton' 'regional' 'relax' 'religious' 'retro'\n",
      " 'rhythm' 'rnb' 'rnr' 'rock' 'rockabilly' 'romance' 'roots' 'ruspop'\n",
      " 'rusrap' 'rusrock' 'salsa' 'samba' 'schlager' 'self' 'sertanejo'\n",
      " 'shoegazing' 'showtunes' 'singer' 'ska' 'slow' 'smooth' 'soul' 'soulful'\n",
      " 'sound' 'soundtrack' 'southern' 'specialty' 'speech' 'spiritual' 'sport'\n",
      " 'stonerrock' 'surf' 'swing' 'synthpop' 'sängerportrait' 'tango'\n",
      " 'tanzorchester' 'taraftar' 'tech' 'techno' 'thrash' 'top' 'traditional'\n",
      " 'tradjazz' 'trance' 'tribal' 'trip' 'triphop' 'tropical' 'türk' 'türkçe'\n",
      " 'unknown' 'urban' 'uzbek' 'variété' 'vi' 'videogame' 'vocal' 'western'\n",
      " 'world' 'worldbeat' 'ïîï']\n"
     ]
    }
   ],
   "source": [
    "# Comprobación de duplicados implícitos\n",
    "print(df['genre'].nunique())\n",
    "print()\n",
    "print(df['genre'].sort_values().unique())"
   ]
  },
  {
   "cell_type": "markdown",
   "metadata": {
    "id": "ALgNbvF3VtPA"
   },
   "source": [
    "[Volver a Contenidos](#back)"
   ]
  },
  {
   "cell_type": "markdown",
   "metadata": {
    "id": "jz6a9-7HQUDd"
   },
   "source": [
    "### Tus observaciones <a id='data_preprocessing_conclusions'></a>\n",
    "\n",
    "`Describe brevemente lo que has notado al analizar duplicados, cómo abordaste sus eliminaciones y qué resultados obtuviste.`\n",
    "Al analizar los duplicados en la columna 'genre' noté la presencia de duplicados de un mismo género músical, estos duplicados pueden distorcionar el análisis, creando múltiples categorías de lo que esencialmente es el mismo género. Ahora la columna 'genre' tiene todas las variantes del género hiphop unificadas lo que mejora la precisión del análisis."
   ]
  },
  {
   "cell_type": "markdown",
   "metadata": {
    "id": "eK1es74rVujj"
   },
   "source": [
    "[Volver a Contenidos](#back)"
   ]
  },
  {
   "cell_type": "markdown",
   "metadata": {
    "id": "WttZHXH0SqKk"
   },
   "source": [
    "## Etapa 3. Prueba de hipótesis <a id='hypothesis'></a>"
   ]
  },
  {
   "cell_type": "markdown",
   "metadata": {
    "id": "Im936VVi_Zcu"
   },
   "source": [
    "### Hipótesis: comparar el comportamiento del usuario o la usuaria en las dos ciudades <a id='activity'></a>"
   ]
  },
  {
   "cell_type": "markdown",
   "metadata": {
    "id": "nwt_MuaL_Zcu"
   },
   "source": [
    "La hipótesis afirma que existen diferencias en la forma en que los usuarios y las usuarias de Springfield y Shelbyville consumen música. Para comprobar esto, usa los datos de tres días de la semana: lunes, miércoles y viernes.\n",
    "\n",
    "* Agrupa a los usuarios y las usuarias por ciudad.\n",
    "* Compara el número de canciones que cada grupo reprodujo el lunes, el miércoles y el viernes.\n"
   ]
  },
  {
   "cell_type": "markdown",
   "metadata": {
    "id": "8Dw_YMmT_Zcu"
   },
   "source": [
    "Realiza cada cálculo por separado.\n",
    "\n",
    "El primer paso es evaluar la actividad del usuario en cada ciudad. Recuerda las etapas dividir-aplicar-combinar de las que hablamos anteriormente en la lección. Tu objetivo ahora es agrupar los datos por ciudad, aplicar el método apropiado para contar durante la etapa de aplicación y luego encontrar la cantidad de canciones reproducidas en cada grupo especificando la columna para obtener el recuento.\n",
    "\n",
    "A continuación se muestra un ejemplo de cómo debería verse el resultado final:\n",
    "`df.groupby(by='....')['column'].method()`Realiza cada cálculo por separado.\n",
    "\n",
    "Para evaluar la actividad de los usuarios y las usuarias en cada ciudad, agrupa los datos por ciudad y encuentra la cantidad de canciones reproducidas en cada grupo.\n",
    "\n"
   ]
  },
  {
   "cell_type": "code",
   "execution_count": 20,
   "metadata": {
    "id": "0_Qs96oh_Zcu"
   },
   "outputs": [
    {
     "data": {
      "text/plain": [
       "city\n",
       "Shelbyville    18512\n",
       "Springfield    42741\n",
       "Name: track, dtype: int64"
      ]
     },
     "execution_count": 20,
     "metadata": {},
     "output_type": "execute_result"
    }
   ],
   "source": [
    "# Contar las canciones reproducidas en cada ciudad\n",
    "df.groupby('city')['track'].count()"
   ]
  },
  {
   "cell_type": "markdown",
   "metadata": {
    "id": "t_Qx-3NewAnK"
   },
   "source": [
    "`Comenta tus observaciones aquí`\n",
    "La ciudade de Shelbyville reprodujo 18512 canciones, mientras que Springfield reprodujo 42741 canciones siendo la ciudad que más escuchó música"
   ]
  },
  {
   "cell_type": "markdown",
   "metadata": {
    "id": "dzli3w8o_Zcu"
   },
   "source": [
    "Ahora agrupemos los datos por día de la semana y encontremos el número de canciones reproducidas el lunes, miércoles y viernes. Utiliza el mismo método que antes, pero ahora necesitamos una agrupación diferente.\n"
   ]
  },
  {
   "cell_type": "code",
   "execution_count": 21,
   "metadata": {
    "id": "uZMKjiJz_Zcu"
   },
   "outputs": [
    {
     "data": {
      "text/plain": [
       "day\n",
       "Friday       21840\n",
       "Monday       21354\n",
       "Wednesday    18059\n",
       "Name: track, dtype: int64"
      ]
     },
     "execution_count": 21,
     "metadata": {},
     "output_type": "execute_result"
    }
   ],
   "source": [
    "# Calcular las canciones reproducidas en cada uno de los tres días\n",
    "df.groupby('day')['track'].count()"
   ]
  },
  {
   "cell_type": "markdown",
   "metadata": {
    "id": "cC2tNrlL_Zcu"
   },
   "source": [
    "`Comenta tus observaciones aquí`\n",
    "El día que más se reprodujeron canciones fue el día 'Viernes'"
   ]
  },
  {
   "cell_type": "markdown",
   "metadata": {
    "id": "POzs8bGa_Zcu"
   },
   "source": [
    "Ya sabes cómo contar entradas agrupándolas por ciudad o día. Ahora necesitas escribir una función que pueda contar entradas según ambos criterios simultáneamente.\n",
    "\n",
    "Crea la función `number_tracks()` para calcular el número de canciones reproducidas en un determinado día **y** ciudad. La función debe aceptar dos parámetros:\n",
    "\n",
    "- `day`: un día de la semana para filtrar. Por ejemplo, `'Monday'` (lunes).\n",
    "- `city`: una ciudad para filtrar. Por ejemplo, `'Springfield'`.\n",
    "\n",
    "Dentro de la función, aplicarás un filtrado consecutivo con indexación lógica.\n",
    "\n",
    "Primero filtra los datos por día y luego filtra la tabla resultante por ciudad.\n",
    "\n",
    "Después de filtrar los datos por dos criterios, cuenta el número de valores de la columna 'user_id' en la tabla resultante. Este recuento representa el número de entradas que estás buscando. Guarda el resultado en una nueva variable y devuélvelo desde la función."
   ]
  },
  {
   "cell_type": "code",
   "execution_count": 22,
   "metadata": {
    "id": "Nz3GdQB1_Zcu"
   },
   "outputs": [],
   "source": [
    "# Declara la función number_tracks() con dos parámetros: day= y city=.\n",
    "def number_tracks(day, city):\n",
    "    filtered_data = df[df['day'] == day]\n",
    "    filtered_data = filtered_data[filtered_data['city'] == city]\n",
    "    track_count = filtered_data['user_id'].count()\n",
    "    return track_count\n",
    "\n",
    "    # Almacena las filas del DataFrame donde el valor en la columna 'day' es igual al parámetro day=\n",
    "\n",
    "    # Filtra las filas donde el valor en la columna 'city' es igual al parámetro city=\n",
    "\n",
    "    # Extrae la columna 'user_id' de la tabla filtrada y aplica el método count()\n",
    "\n",
    "    # Devolve el número de valores de la columna 'user_id'"
   ]
  },
  {
   "cell_type": "markdown",
   "metadata": {
    "id": "ytf7xFrFJQ2r"
   },
   "source": [
    "Llama a `number_tracks()` seis veces, cambiando los valores de los parámetros para que recuperes los datos de ambas ciudades para cada uno de los tres días."
   ]
  },
  {
   "cell_type": "code",
   "execution_count": 23,
   "metadata": {
    "id": "rJcRATNQ_Zcu"
   },
   "outputs": [
    {
     "name": "stdout",
     "output_type": "stream",
     "text": [
      "15740\n"
     ]
    }
   ],
   "source": [
    "# El número de canciones reproducidas en Springfield el lunes\n",
    "result = number_tracks('Monday', 'Springfield')\n",
    "print(result)"
   ]
  },
  {
   "cell_type": "code",
   "execution_count": 24,
   "metadata": {
    "id": "hq_ncZ5T_Zcu"
   },
   "outputs": [
    {
     "name": "stdout",
     "output_type": "stream",
     "text": [
      "5614\n"
     ]
    }
   ],
   "source": [
    "# El número de canciones reproducidas en Shelbyville el lunes\n",
    "result = number_tracks('Monday', 'Shelbyville')\n",
    "print(result)"
   ]
  },
  {
   "cell_type": "code",
   "execution_count": 25,
   "metadata": {
    "id": "_NTy2VPU_Zcu"
   },
   "outputs": [
    {
     "name": "stdout",
     "output_type": "stream",
     "text": [
      "11056\n"
     ]
    }
   ],
   "source": [
    "# El número de canciones reproducidas en Springfield el miércoles\n",
    "result = number_tracks('Wednesday', 'Springfield')\n",
    "print(result)"
   ]
  },
  {
   "cell_type": "code",
   "execution_count": 26,
   "metadata": {
    "id": "j2y3TAwo_Zcu"
   },
   "outputs": [
    {
     "name": "stdout",
     "output_type": "stream",
     "text": [
      "7003\n"
     ]
    }
   ],
   "source": [
    "# El número de canciones reproducidas en Shelbyville el miércoles\n",
    "result = number_tracks('Wednesday', 'Shelbyville')\n",
    "print(result)"
   ]
  },
  {
   "cell_type": "code",
   "execution_count": 27,
   "metadata": {
    "id": "vYDw5u_K_Zcu"
   },
   "outputs": [
    {
     "name": "stdout",
     "output_type": "stream",
     "text": [
      "15945\n"
     ]
    }
   ],
   "source": [
    "# El número de canciones reproducidas en Springfield el viernes\n",
    "result = number_tracks('Friday', 'Springfield')\n",
    "print(result)"
   ]
  },
  {
   "cell_type": "code",
   "execution_count": 28,
   "metadata": {
    "id": "8_yzFtW3_Zcu"
   },
   "outputs": [
    {
     "name": "stdout",
     "output_type": "stream",
     "text": [
      "5895\n"
     ]
    }
   ],
   "source": [
    "# El número de canciones reproducidas en Shelbyville el viernes\n",
    "result = number_tracks('Friday', 'Shelbyville')\n",
    "print(result)"
   ]
  },
  {
   "cell_type": "markdown",
   "metadata": {
    "id": "-EgPIHYu_Zcu"
   },
   "source": [
    "**Conclusiones**\n",
    "\n",
    "`Comenta si la hipótesis es correcta o se debe rechazar. Explica tu razonamiento.`\n",
    "La hipotesis es correcta ya que ningún día de la semana se reprodujeron las mismas cantidad de canciones en Springfield y en Shelbyville"
   ]
  },
  {
   "cell_type": "markdown",
   "metadata": {
    "id": "p7nFQajCVw5B"
   },
   "source": [
    "[Volver a Contenidos](#back)"
   ]
  },
  {
   "cell_type": "markdown",
   "metadata": {
    "id": "ykKQ0N65_Zcv"
   },
   "source": [
    "# Conclusiones <a id='end'></a>"
   ]
  },
  {
   "cell_type": "markdown",
   "metadata": {
    "id": "tjUwbHb3_Zcv"
   },
   "source": [
    "`Resume aquí tus conclusiones sobre la hipótesis.`\n",
    "La hipotesis se debe aceptar a medias, ya que las reproducciones de caciones fueron muy parecidas, pero si variando en ciertos días de la semana como el Miércoles en Springfield y si variaron mucho dependiendo de la ciudad, siendo springfield escuchando más del doble de canciones que Shelbyville en los distintos días de la semana."
   ]
  },
  {
   "cell_type": "markdown",
   "metadata": {
    "id": "azLHu64yOIp7"
   },
   "source": [
    "### Nota\n",
    "En proyectos de investigación reales, la prueba de hipótesis estadística es más precisa y cuantitativa. También ten en cuenta que no siempre se pueden sacar conclusiones sobre una ciudad entera a partir de datos de una sola fuente.\n",
    "\n",
    "Aprenderás más sobre la prueba de hipótesis en el sprint de análisis estadístico de datos."
   ]
  },
  {
   "cell_type": "markdown",
   "metadata": {
    "id": "Ju4AHDSgV1FE"
   },
   "source": [
    "[Volver a Contenidos](#back)"
   ]
  }
 ],
 "metadata": {
  "ExecuteTimeLog": [
   {
    "duration": 12,
    "start_time": "2024-08-13T09:18:42.067Z"
   },
   {
    "duration": 4,
    "start_time": "2024-08-13T09:18:51.568Z"
   },
   {
    "duration": 5,
    "start_time": "2024-08-13T09:18:59.291Z"
   },
   {
    "duration": 5,
    "start_time": "2024-08-13T09:19:08.715Z"
   },
   {
    "duration": 335,
    "start_time": "2024-08-13T09:20:25.539Z"
   },
   {
    "duration": 3,
    "start_time": "2024-08-13T09:20:32.506Z"
   },
   {
    "duration": 306,
    "start_time": "2024-08-15T20:23:08.900Z"
   },
   {
    "duration": 21,
    "start_time": "2024-08-15T20:23:16.752Z"
   },
   {
    "duration": 21,
    "start_time": "2024-08-15T20:23:25.339Z"
   },
   {
    "duration": 22,
    "start_time": "2024-08-15T20:23:38.649Z"
   },
   {
    "duration": 8,
    "start_time": "2024-08-15T20:23:54.443Z"
   },
   {
    "duration": 21,
    "start_time": "2024-08-15T20:24:08.410Z"
   },
   {
    "duration": 21,
    "start_time": "2024-08-15T20:24:27.823Z"
   },
   {
    "duration": 21,
    "start_time": "2024-08-15T20:24:58.331Z"
   },
   {
    "duration": 65,
    "start_time": "2024-08-15T20:25:24.516Z"
   },
   {
    "duration": 22,
    "start_time": "2024-08-15T20:25:46.444Z"
   },
   {
    "duration": 416,
    "start_time": "2024-08-15T20:26:06.638Z"
   },
   {
    "duration": 57,
    "start_time": "2024-08-15T20:26:09.417Z"
   },
   {
    "duration": 758,
    "start_time": "2024-08-15T20:26:19.659Z"
   },
   {
    "duration": 124,
    "start_time": "2024-08-15T20:26:40.717Z"
   },
   {
    "duration": 121,
    "start_time": "2024-08-15T20:26:59.049Z"
   },
   {
    "duration": 176,
    "start_time": "2024-08-15T20:27:07.693Z"
   },
   {
    "duration": 169,
    "start_time": "2024-08-15T20:27:10.281Z"
   },
   {
    "duration": 12,
    "start_time": "2024-08-15T20:27:44.516Z"
   },
   {
    "duration": 9,
    "start_time": "2024-08-15T20:27:53.752Z"
   },
   {
    "duration": 10,
    "start_time": "2024-08-15T20:30:23.125Z"
   },
   {
    "duration": 35,
    "start_time": "2024-08-15T20:30:33.809Z"
   },
   {
    "duration": 21,
    "start_time": "2024-08-15T20:32:06.913Z"
   },
   {
    "duration": 22,
    "start_time": "2024-08-15T20:32:11.616Z"
   },
   {
    "duration": 32,
    "start_time": "2024-08-15T20:32:20.139Z"
   },
   {
    "duration": 4,
    "start_time": "2024-08-15T20:38:55.608Z"
   },
   {
    "duration": 10,
    "start_time": "2024-08-15T20:41:05.692Z"
   },
   {
    "duration": 11,
    "start_time": "2024-08-15T20:41:32.725Z"
   },
   {
    "duration": 9,
    "start_time": "2024-08-15T20:41:44.462Z"
   },
   {
    "duration": 7,
    "start_time": "2024-08-15T20:51:19.136Z"
   },
   {
    "duration": 22,
    "start_time": "2024-08-15T20:52:50.952Z"
   },
   {
    "duration": 26,
    "start_time": "2024-08-15T20:53:00.825Z"
   },
   {
    "duration": 8,
    "start_time": "2024-08-15T20:53:08.666Z"
   },
   {
    "duration": 25,
    "start_time": "2024-08-15T20:53:30.366Z"
   },
   {
    "duration": 23,
    "start_time": "2024-08-15T20:53:35.284Z"
   },
   {
    "duration": 22,
    "start_time": "2024-08-15T20:53:38.133Z"
   },
   {
    "duration": 22,
    "start_time": "2024-08-15T20:53:44.293Z"
   },
   {
    "duration": 23,
    "start_time": "2024-08-15T20:54:21.658Z"
   },
   {
    "duration": 25,
    "start_time": "2024-08-15T20:55:01.844Z"
   },
   {
    "duration": 23,
    "start_time": "2024-08-15T20:55:08.088Z"
   },
   {
    "duration": 24,
    "start_time": "2024-08-15T20:55:12.051Z"
   },
   {
    "duration": 19,
    "start_time": "2024-08-15T20:55:16.597Z"
   },
   {
    "duration": 18,
    "start_time": "2024-08-15T20:55:21.766Z"
   },
   {
    "duration": 23,
    "start_time": "2024-08-15T20:55:53.728Z"
   },
   {
    "duration": 22,
    "start_time": "2024-08-15T20:56:06.802Z"
   },
   {
    "duration": 5,
    "start_time": "2024-08-15T20:56:11.956Z"
   },
   {
    "duration": 22,
    "start_time": "2024-08-15T20:56:54.442Z"
   },
   {
    "duration": 5,
    "start_time": "2024-08-15T20:57:01.171Z"
   },
   {
    "duration": 4,
    "start_time": "2024-08-15T20:57:13.530Z"
   },
   {
    "duration": 25,
    "start_time": "2024-08-15T20:57:20.307Z"
   },
   {
    "duration": 23,
    "start_time": "2024-08-15T20:57:26.372Z"
   },
   {
    "duration": 19,
    "start_time": "2024-08-15T20:57:29.190Z"
   },
   {
    "duration": 19,
    "start_time": "2024-08-15T20:57:37.897Z"
   },
   {
    "duration": 20,
    "start_time": "2024-08-15T20:57:41.051Z"
   },
   {
    "duration": 20,
    "start_time": "2024-08-15T20:57:48.707Z"
   },
   {
    "duration": 5,
    "start_time": "2024-08-15T20:57:57.032Z"
   },
   {
    "duration": 4,
    "start_time": "2024-08-15T20:58:40.136Z"
   },
   {
    "duration": 16,
    "start_time": "2024-08-15T20:59:19.692Z"
   },
   {
    "duration": 5,
    "start_time": "2024-08-15T20:59:25.701Z"
   },
   {
    "duration": 4,
    "start_time": "2024-08-15T20:59:35.641Z"
   },
   {
    "duration": 5,
    "start_time": "2024-08-15T20:59:56.891Z"
   },
   {
    "duration": 5,
    "start_time": "2024-08-15T21:01:25.842Z"
   },
   {
    "duration": 6,
    "start_time": "2024-08-15T21:03:11.320Z"
   },
   {
    "duration": 5,
    "start_time": "2024-08-15T21:05:14.928Z"
   },
   {
    "duration": 4,
    "start_time": "2024-08-15T21:06:08.595Z"
   },
   {
    "duration": 27,
    "start_time": "2024-08-15T21:09:05.638Z"
   },
   {
    "duration": 18,
    "start_time": "2024-08-15T21:13:13.522Z"
   },
   {
    "duration": 24,
    "start_time": "2024-08-15T21:13:33.351Z"
   },
   {
    "duration": 72,
    "start_time": "2024-08-15T21:15:15.139Z"
   },
   {
    "duration": 89,
    "start_time": "2024-08-15T21:16:13.365Z"
   },
   {
    "duration": 88,
    "start_time": "2024-08-15T21:16:18.123Z"
   },
   {
    "duration": 95,
    "start_time": "2024-08-15T21:16:46.588Z"
   },
   {
    "duration": 69,
    "start_time": "2024-08-15T21:17:04.369Z"
   },
   {
    "duration": 65,
    "start_time": "2024-08-15T21:17:16.091Z"
   },
   {
    "duration": 19,
    "start_time": "2024-08-15T21:19:30.182Z"
   },
   {
    "duration": 19,
    "start_time": "2024-08-15T21:19:40.547Z"
   },
   {
    "duration": 6,
    "start_time": "2024-08-15T21:20:01.210Z"
   },
   {
    "duration": 5,
    "start_time": "2024-08-15T21:20:07.417Z"
   },
   {
    "duration": 5,
    "start_time": "2024-08-15T21:20:20.867Z"
   },
   {
    "duration": 5,
    "start_time": "2024-08-15T21:20:25.973Z"
   },
   {
    "duration": 35,
    "start_time": "2024-08-15T21:20:38.245Z"
   },
   {
    "duration": 10,
    "start_time": "2024-08-15T21:22:00.065Z"
   },
   {
    "duration": 24,
    "start_time": "2024-08-15T21:22:40.353Z"
   },
   {
    "duration": 10,
    "start_time": "2024-08-15T21:22:45.943Z"
   },
   {
    "duration": 4,
    "start_time": "2024-08-15T21:29:29.536Z"
   },
   {
    "duration": 35,
    "start_time": "2024-08-15T21:29:42.643Z"
   },
   {
    "duration": 32,
    "start_time": "2024-08-15T21:29:58.883Z"
   },
   {
    "duration": 13,
    "start_time": "2024-08-15T21:30:08.152Z"
   },
   {
    "duration": 3,
    "start_time": "2024-08-15T21:31:32.084Z"
   },
   {
    "duration": 11,
    "start_time": "2024-08-15T21:32:25.659Z"
   },
   {
    "duration": 4,
    "start_time": "2024-08-15T21:33:58.667Z"
   },
   {
    "duration": 10,
    "start_time": "2024-08-15T21:34:10.408Z"
   },
   {
    "duration": 22,
    "start_time": "2024-08-15T21:41:53.026Z"
   },
   {
    "duration": 22,
    "start_time": "2024-08-15T21:42:00.593Z"
   },
   {
    "duration": 4130,
    "start_time": "2024-08-15T21:42:15.333Z"
   },
   {
    "duration": 4112,
    "start_time": "2024-08-15T21:42:34.928Z"
   },
   {
    "duration": 4093,
    "start_time": "2024-08-15T21:42:46.024Z"
   },
   {
    "duration": 4,
    "start_time": "2024-08-15T21:43:06.594Z"
   },
   {
    "duration": 4,
    "start_time": "2024-08-15T21:43:48.842Z"
   },
   {
    "duration": 7,
    "start_time": "2024-08-15T21:43:55.154Z"
   },
   {
    "duration": 5,
    "start_time": "2024-08-15T21:44:02.767Z"
   },
   {
    "duration": 4091,
    "start_time": "2024-08-15T21:44:05.076Z"
   },
   {
    "duration": 6,
    "start_time": "2024-08-15T21:44:29.308Z"
   },
   {
    "duration": 4132,
    "start_time": "2024-08-15T21:44:37.669Z"
   },
   {
    "duration": 23,
    "start_time": "2024-08-15T21:45:16.327Z"
   },
   {
    "duration": 408,
    "start_time": "2024-08-15T21:45:34.708Z"
   },
   {
    "duration": 6,
    "start_time": "2024-08-15T21:45:41.983Z"
   },
   {
    "duration": 5,
    "start_time": "2024-08-15T21:45:47.572Z"
   },
   {
    "duration": 417,
    "start_time": "2024-08-15T21:45:59.876Z"
   },
   {
    "duration": 1496,
    "start_time": "2024-08-15T21:46:08.180Z"
   },
   {
    "duration": 5,
    "start_time": "2024-08-15T21:46:19.734Z"
   },
   {
    "duration": 1524,
    "start_time": "2024-08-15T21:46:22.855Z"
   },
   {
    "duration": 9,
    "start_time": "2024-08-15T21:46:39.670Z"
   },
   {
    "duration": 6,
    "start_time": "2024-08-15T21:46:46.697Z"
   },
   {
    "duration": 4184,
    "start_time": "2024-08-15T21:47:05.009Z"
   },
   {
    "duration": 21,
    "start_time": "2024-08-15T21:48:14.619Z"
   },
   {
    "duration": 258,
    "start_time": "2024-08-15T21:53:06.503Z"
   },
   {
    "duration": 38,
    "start_time": "2024-08-15T21:53:25.795Z"
   },
   {
    "duration": 6,
    "start_time": "2024-08-15T21:53:58.295Z"
   },
   {
    "duration": 39,
    "start_time": "2024-08-15T21:54:06.020Z"
   },
   {
    "duration": 22,
    "start_time": "2024-08-15T21:55:15.460Z"
   },
   {
    "duration": 16,
    "start_time": "2024-08-15T21:55:25.535Z"
   },
   {
    "duration": 31,
    "start_time": "2024-08-15T21:57:06.117Z"
   },
   {
    "duration": 18,
    "start_time": "2024-08-15T21:57:15.146Z"
   },
   {
    "duration": 5,
    "start_time": "2024-08-15T22:02:37.554Z"
   },
   {
    "duration": 31,
    "start_time": "2024-08-15T22:02:59.293Z"
   },
   {
    "duration": 5,
    "start_time": "2024-08-15T22:03:04.467Z"
   },
   {
    "duration": 20,
    "start_time": "2024-08-15T22:04:15.168Z"
   },
   {
    "duration": 38,
    "start_time": "2024-08-15T22:04:28.397Z"
   },
   {
    "duration": 22,
    "start_time": "2024-08-15T22:04:31.918Z"
   },
   {
    "duration": 5,
    "start_time": "2024-08-15T22:08:32.223Z"
   },
   {
    "duration": 23,
    "start_time": "2024-08-15T22:08:35.113Z"
   },
   {
    "duration": 21,
    "start_time": "2024-08-15T22:09:59.429Z"
   },
   {
    "duration": 923,
    "start_time": "2024-08-15T22:10:02.786Z"
   },
   {
    "duration": 173,
    "start_time": "2024-08-15T22:10:20.780Z"
   },
   {
    "duration": 5,
    "start_time": "2024-08-15T22:11:24.094Z"
   },
   {
    "duration": 95,
    "start_time": "2024-08-15T22:11:26.912Z"
   },
   {
    "duration": 6,
    "start_time": "2024-08-15T22:11:56.940Z"
   },
   {
    "duration": 109,
    "start_time": "2024-08-15T22:11:59.790Z"
   },
   {
    "duration": 6,
    "start_time": "2024-08-15T22:12:43.997Z"
   },
   {
    "duration": 22,
    "start_time": "2024-08-15T22:12:45.216Z"
   },
   {
    "duration": 21,
    "start_time": "2024-08-15T22:13:37.968Z"
   },
   {
    "duration": 25,
    "start_time": "2024-08-15T22:13:52.186Z"
   },
   {
    "duration": 18,
    "start_time": "2024-08-15T22:14:11.918Z"
   },
   {
    "duration": 23,
    "start_time": "2024-08-15T22:14:27.710Z"
   },
   {
    "duration": 22,
    "start_time": "2024-08-15T22:14:37.457Z"
   },
   {
    "duration": 26,
    "start_time": "2024-08-15T22:16:29.759Z"
   },
   {
    "duration": 21,
    "start_time": "2024-08-15T22:16:32.117Z"
   },
   {
    "duration": 21,
    "start_time": "2024-08-15T22:16:47.286Z"
   },
   {
    "duration": 25,
    "start_time": "2024-08-15T22:16:49.915Z"
   },
   {
    "duration": 309,
    "start_time": "2024-08-20T06:50:38.890Z"
   },
   {
    "duration": 21,
    "start_time": "2024-08-20T06:52:36.170Z"
   },
   {
    "duration": 21,
    "start_time": "2024-08-20T06:52:50.485Z"
   },
   {
    "duration": 19,
    "start_time": "2024-08-20T06:53:09.333Z"
   },
   {
    "duration": 21,
    "start_time": "2024-08-20T06:55:32.883Z"
   },
   {
    "duration": 20,
    "start_time": "2024-08-20T06:55:48.203Z"
   },
   {
    "duration": 23,
    "start_time": "2024-08-20T06:55:54.523Z"
   },
   {
    "duration": 57,
    "start_time": "2024-08-20T06:56:55.431Z"
   },
   {
    "duration": 22,
    "start_time": "2024-08-20T06:57:55.220Z"
   },
   {
    "duration": 23,
    "start_time": "2024-08-20T06:59:14.150Z"
   },
   {
    "duration": 21,
    "start_time": "2024-08-20T07:00:01.788Z"
   },
   {
    "duration": 9,
    "start_time": "2024-08-20T07:00:05.349Z"
   },
   {
    "duration": 21,
    "start_time": "2024-08-20T07:00:41.555Z"
   },
   {
    "duration": 21,
    "start_time": "2024-08-20T07:00:50.066Z"
   },
   {
    "duration": 21,
    "start_time": "2024-08-20T07:01:03.205Z"
   },
   {
    "duration": 20,
    "start_time": "2024-08-20T07:01:24.380Z"
   },
   {
    "duration": 24,
    "start_time": "2024-08-20T07:01:27.738Z"
   },
   {
    "duration": 22,
    "start_time": "2024-08-20T07:02:36.038Z"
   },
   {
    "duration": 20,
    "start_time": "2024-08-20T07:03:03.204Z"
   },
   {
    "duration": 22,
    "start_time": "2024-08-20T07:03:14.125Z"
   },
   {
    "duration": 23,
    "start_time": "2024-08-20T07:03:25.904Z"
   },
   {
    "duration": 21,
    "start_time": "2024-08-20T07:04:20.671Z"
   },
   {
    "duration": 21,
    "start_time": "2024-08-20T07:04:34.888Z"
   },
   {
    "duration": 421,
    "start_time": "2024-08-20T07:04:42.480Z"
   },
   {
    "duration": 177,
    "start_time": "2024-08-20T07:04:44.420Z"
   },
   {
    "duration": 10,
    "start_time": "2024-08-20T07:04:48.004Z"
   },
   {
    "duration": 32,
    "start_time": "2024-08-20T07:04:54.827Z"
   },
   {
    "duration": 4,
    "start_time": "2024-08-20T07:05:57.482Z"
   },
   {
    "duration": 5,
    "start_time": "2024-08-20T07:05:59.951Z"
   },
   {
    "duration": 5,
    "start_time": "2024-08-20T07:06:00.686Z"
   },
   {
    "duration": 5,
    "start_time": "2024-08-20T07:06:01.833Z"
   },
   {
    "duration": 4,
    "start_time": "2024-08-20T07:06:03.333Z"
   },
   {
    "duration": 26,
    "start_time": "2024-08-20T07:06:04.812Z"
   },
   {
    "duration": 21,
    "start_time": "2024-08-20T07:06:06.066Z"
   },
   {
    "duration": 26,
    "start_time": "2024-08-20T07:06:06.845Z"
   },
   {
    "duration": 75,
    "start_time": "2024-08-20T07:06:09.134Z"
   },
   {
    "duration": 85,
    "start_time": "2024-08-20T07:06:09.687Z"
   },
   {
    "duration": 68,
    "start_time": "2024-08-20T07:06:10.090Z"
   },
   {
    "duration": 8,
    "start_time": "2024-08-20T07:06:10.632Z"
   },
   {
    "duration": 4,
    "start_time": "2024-08-20T07:06:12.345Z"
   },
   {
    "duration": 12,
    "start_time": "2024-08-20T07:06:13.452Z"
   },
   {
    "duration": 13,
    "start_time": "2024-08-20T07:06:14.628Z"
   },
   {
    "duration": 9,
    "start_time": "2024-08-20T07:06:24.769Z"
   },
   {
    "duration": 13,
    "start_time": "2024-08-20T07:06:30.286Z"
   },
   {
    "duration": 55,
    "start_time": "2024-08-20T07:09:15.110Z"
   },
   {
    "duration": 9,
    "start_time": "2024-08-20T07:09:18.254Z"
   },
   {
    "duration": 19,
    "start_time": "2024-08-20T07:15:14.558Z"
   },
   {
    "duration": 16,
    "start_time": "2024-08-20T07:15:19.955Z"
   },
   {
    "duration": 9,
    "start_time": "2024-08-20T07:15:27.114Z"
   },
   {
    "duration": 15,
    "start_time": "2024-08-20T07:15:31.679Z"
   },
   {
    "duration": 17,
    "start_time": "2024-08-20T07:15:43.037Z"
   },
   {
    "duration": 14,
    "start_time": "2024-08-20T07:15:54.811Z"
   },
   {
    "duration": 15,
    "start_time": "2024-08-20T07:16:06.034Z"
   },
   {
    "duration": 15,
    "start_time": "2024-08-20T07:16:15.830Z"
   },
   {
    "duration": 31,
    "start_time": "2024-08-20T07:20:41.384Z"
   },
   {
    "duration": 30,
    "start_time": "2024-08-20T07:20:46.925Z"
   },
   {
    "duration": 41,
    "start_time": "2024-08-20T07:37:57.392Z"
   },
   {
    "duration": 29,
    "start_time": "2024-08-20T07:42:41.399Z"
   },
   {
    "duration": 29,
    "start_time": "2024-08-20T07:43:21.375Z"
   },
   {
    "duration": 22,
    "start_time": "2024-08-20T07:43:44.806Z"
   },
   {
    "duration": 22,
    "start_time": "2024-08-20T07:43:55.251Z"
   },
   {
    "duration": 22,
    "start_time": "2024-08-20T07:43:59.155Z"
   },
   {
    "duration": 31,
    "start_time": "2024-08-20T07:44:02.910Z"
   },
   {
    "duration": 22,
    "start_time": "2024-08-20T07:53:08.853Z"
   },
   {
    "duration": 33,
    "start_time": "2024-08-20T07:53:18.273Z"
   },
   {
    "duration": 34,
    "start_time": "2024-08-20T07:53:35.938Z"
   },
   {
    "duration": 30,
    "start_time": "2024-08-20T07:53:42.782Z"
   },
   {
    "duration": 30,
    "start_time": "2024-08-20T07:53:47.897Z"
   },
   {
    "duration": 31,
    "start_time": "2024-08-20T08:07:17.440Z"
   },
   {
    "duration": 547,
    "start_time": "2024-08-20T20:58:39.241Z"
   },
   {
    "duration": 180,
    "start_time": "2024-08-20T20:58:39.792Z"
   },
   {
    "duration": 37,
    "start_time": "2024-08-20T20:58:39.975Z"
   },
   {
    "duration": 47,
    "start_time": "2024-08-20T20:58:40.015Z"
   },
   {
    "duration": 5,
    "start_time": "2024-08-20T20:58:40.068Z"
   },
   {
    "duration": 38,
    "start_time": "2024-08-20T20:58:40.077Z"
   },
   {
    "duration": 5,
    "start_time": "2024-08-20T20:58:40.119Z"
   },
   {
    "duration": 6,
    "start_time": "2024-08-20T20:58:40.127Z"
   },
   {
    "duration": 5,
    "start_time": "2024-08-20T20:58:40.136Z"
   },
   {
    "duration": 88,
    "start_time": "2024-08-20T20:58:40.145Z"
   },
   {
    "duration": 20,
    "start_time": "2024-08-20T20:58:40.237Z"
   },
   {
    "duration": 27,
    "start_time": "2024-08-20T20:58:40.259Z"
   },
   {
    "duration": 131,
    "start_time": "2024-08-20T20:58:40.289Z"
   },
   {
    "duration": 97,
    "start_time": "2024-08-20T20:58:40.427Z"
   },
   {
    "duration": 71,
    "start_time": "2024-08-20T20:58:40.527Z"
   },
   {
    "duration": 11,
    "start_time": "2024-08-20T20:58:40.614Z"
   },
   {
    "duration": 8,
    "start_time": "2024-08-20T20:58:40.628Z"
   },
   {
    "duration": 15,
    "start_time": "2024-08-20T20:58:40.639Z"
   },
   {
    "duration": 18,
    "start_time": "2024-08-20T20:58:40.657Z"
   },
   {
    "duration": 20,
    "start_time": "2024-08-20T20:58:40.714Z"
   },
   {
    "duration": 19,
    "start_time": "2024-08-20T20:58:40.736Z"
   },
   {
    "duration": 6,
    "start_time": "2024-08-20T20:58:40.758Z"
   },
   {
    "duration": 60,
    "start_time": "2024-08-20T20:58:40.768Z"
   },
   {
    "duration": 23,
    "start_time": "2024-08-20T20:58:40.831Z"
   },
   {
    "duration": 55,
    "start_time": "2024-08-20T20:58:40.857Z"
   },
   {
    "duration": 22,
    "start_time": "2024-08-20T20:58:40.915Z"
   },
   {
    "duration": 25,
    "start_time": "2024-08-20T20:58:40.939Z"
   },
   {
    "duration": 51,
    "start_time": "2024-08-20T20:58:40.967Z"
   },
   {
    "duration": 321,
    "start_time": "2024-08-20T21:03:44.327Z"
   },
   {
    "duration": 496,
    "start_time": "2024-08-20T21:03:54.630Z"
   },
   {
    "duration": 193,
    "start_time": "2024-08-20T21:03:55.130Z"
   },
   {
    "duration": 23,
    "start_time": "2024-08-20T21:03:55.326Z"
   },
   {
    "duration": 46,
    "start_time": "2024-08-20T21:03:55.354Z"
   },
   {
    "duration": 22,
    "start_time": "2024-08-20T21:03:55.403Z"
   },
   {
    "duration": 6,
    "start_time": "2024-08-20T21:03:55.429Z"
   },
   {
    "duration": 7,
    "start_time": "2024-08-20T21:03:55.438Z"
   },
   {
    "duration": 7,
    "start_time": "2024-08-20T21:03:55.448Z"
   },
   {
    "duration": 7,
    "start_time": "2024-08-20T21:03:55.458Z"
   },
   {
    "duration": 28,
    "start_time": "2024-08-20T21:03:55.526Z"
   },
   {
    "duration": 24,
    "start_time": "2024-08-20T21:03:55.558Z"
   },
   {
    "duration": 47,
    "start_time": "2024-08-20T21:03:55.586Z"
   },
   {
    "duration": 94,
    "start_time": "2024-08-20T21:03:55.637Z"
   },
   {
    "duration": 95,
    "start_time": "2024-08-20T21:03:55.735Z"
   },
   {
    "duration": 101,
    "start_time": "2024-08-20T21:03:55.834Z"
   },
   {
    "duration": 12,
    "start_time": "2024-08-20T21:03:55.938Z"
   },
   {
    "duration": 8,
    "start_time": "2024-08-20T21:03:55.954Z"
   },
   {
    "duration": 14,
    "start_time": "2024-08-20T21:03:55.966Z"
   },
   {
    "duration": 48,
    "start_time": "2024-08-20T21:03:55.985Z"
   },
   {
    "duration": 16,
    "start_time": "2024-08-20T21:03:56.036Z"
   },
   {
    "duration": 17,
    "start_time": "2024-08-20T21:03:56.055Z"
   },
   {
    "duration": 6,
    "start_time": "2024-08-20T21:03:56.076Z"
   },
   {
    "duration": 24,
    "start_time": "2024-08-20T21:03:56.124Z"
   },
   {
    "duration": 23,
    "start_time": "2024-08-20T21:03:56.154Z"
   },
   {
    "duration": 44,
    "start_time": "2024-08-20T21:03:56.180Z"
   },
   {
    "duration": 22,
    "start_time": "2024-08-20T21:03:56.228Z"
   },
   {
    "duration": 28,
    "start_time": "2024-08-20T21:03:56.253Z"
   },
   {
    "duration": 54,
    "start_time": "2024-08-20T21:03:56.287Z"
   },
   {
    "duration": 41,
    "start_time": "2024-08-20T21:04:08.608Z"
   },
   {
    "duration": 32,
    "start_time": "2024-08-20T21:04:22.495Z"
   },
   {
    "duration": 314,
    "start_time": "2024-09-24T04:45:03.486Z"
   },
   {
    "duration": 130,
    "start_time": "2024-09-24T04:45:03.802Z"
   },
   {
    "duration": 14,
    "start_time": "2024-09-24T04:45:03.933Z"
   },
   {
    "duration": 26,
    "start_time": "2024-09-24T04:45:03.949Z"
   },
   {
    "duration": 4,
    "start_time": "2024-09-24T04:45:03.977Z"
   },
   {
    "duration": 4,
    "start_time": "2024-09-24T04:45:03.982Z"
   },
   {
    "duration": 4,
    "start_time": "2024-09-24T04:45:03.988Z"
   },
   {
    "duration": 3,
    "start_time": "2024-09-24T04:45:03.994Z"
   },
   {
    "duration": 3,
    "start_time": "2024-09-24T04:45:03.999Z"
   },
   {
    "duration": 21,
    "start_time": "2024-09-24T04:45:04.045Z"
   },
   {
    "duration": 13,
    "start_time": "2024-09-24T04:45:04.067Z"
   },
   {
    "duration": 17,
    "start_time": "2024-09-24T04:45:04.082Z"
   },
   {
    "duration": 74,
    "start_time": "2024-09-24T04:45:04.101Z"
   },
   {
    "duration": 50,
    "start_time": "2024-09-24T04:45:04.178Z"
   },
   {
    "duration": 53,
    "start_time": "2024-09-24T04:45:04.229Z"
   },
   {
    "duration": 5,
    "start_time": "2024-09-24T04:45:04.284Z"
   },
   {
    "duration": 4,
    "start_time": "2024-09-24T04:45:04.291Z"
   },
   {
    "duration": 7,
    "start_time": "2024-09-24T04:45:04.297Z"
   },
   {
    "duration": 8,
    "start_time": "2024-09-24T04:45:04.305Z"
   },
   {
    "duration": 38,
    "start_time": "2024-09-24T04:45:04.314Z"
   },
   {
    "duration": 10,
    "start_time": "2024-09-24T04:45:04.354Z"
   },
   {
    "duration": 3,
    "start_time": "2024-09-24T04:45:04.365Z"
   },
   {
    "duration": 14,
    "start_time": "2024-09-24T04:45:04.370Z"
   },
   {
    "duration": 13,
    "start_time": "2024-09-24T04:45:04.386Z"
   },
   {
    "duration": 48,
    "start_time": "2024-09-24T04:45:04.401Z"
   },
   {
    "duration": 12,
    "start_time": "2024-09-24T04:45:04.451Z"
   },
   {
    "duration": 13,
    "start_time": "2024-09-24T04:45:04.465Z"
   },
   {
    "duration": 14,
    "start_time": "2024-09-24T04:45:04.482Z"
   },
   {
    "duration": 5,
    "start_time": "2024-09-24T04:45:25.374Z"
   },
   {
    "duration": 5,
    "start_time": "2024-09-24T04:45:29.976Z"
   },
   {
    "duration": 4,
    "start_time": "2024-09-24T04:45:52.358Z"
   },
   {
    "duration": 191,
    "start_time": "2024-09-24T04:45:56.618Z"
   },
   {
    "duration": 6,
    "start_time": "2024-09-24T04:46:01.779Z"
   },
   {
    "duration": 16,
    "start_time": "2024-09-24T04:46:15.770Z"
   },
   {
    "duration": 9,
    "start_time": "2024-09-24T04:46:20.543Z"
   },
   {
    "duration": 21,
    "start_time": "2024-09-24T04:46:36.300Z"
   },
   {
    "duration": 16,
    "start_time": "2024-09-24T04:46:47.355Z"
   },
   {
    "duration": 6,
    "start_time": "2024-09-24T04:46:51.415Z"
   },
   {
    "duration": 4,
    "start_time": "2024-09-24T04:47:38.079Z"
   },
   {
    "duration": 31,
    "start_time": "2024-09-24T04:47:42.321Z"
   },
   {
    "duration": 15,
    "start_time": "2024-09-24T04:49:05.666Z"
   },
   {
    "duration": 9,
    "start_time": "2024-09-24T04:49:17.677Z"
   },
   {
    "duration": 12,
    "start_time": "2024-09-24T04:49:21.141Z"
   },
   {
    "duration": 10,
    "start_time": "2024-09-24T04:49:31.590Z"
   },
   {
    "duration": 15,
    "start_time": "2024-09-24T04:49:36.858Z"
   },
   {
    "duration": 33,
    "start_time": "2024-09-24T04:50:17.845Z"
   },
   {
    "duration": 17,
    "start_time": "2024-09-24T04:50:39.664Z"
   },
   {
    "duration": 23,
    "start_time": "2024-09-24T04:51:03.316Z"
   },
   {
    "duration": 18,
    "start_time": "2024-09-24T04:51:13.470Z"
   },
   {
    "duration": 18,
    "start_time": "2024-09-24T04:51:21.849Z"
   },
   {
    "duration": 18,
    "start_time": "2024-09-24T04:51:29.641Z"
   },
   {
    "duration": 14,
    "start_time": "2024-09-24T04:51:53.507Z"
   },
   {
    "duration": 15,
    "start_time": "2024-09-24T04:52:22.198Z"
   },
   {
    "duration": 18,
    "start_time": "2024-09-24T04:52:28.557Z"
   },
   {
    "duration": 17,
    "start_time": "2024-09-24T04:52:32.896Z"
   },
   {
    "duration": 19,
    "start_time": "2024-09-24T04:52:56.285Z"
   },
   {
    "duration": 22,
    "start_time": "2024-09-24T04:53:42.987Z"
   },
   {
    "duration": 19,
    "start_time": "2024-09-24T04:53:53.495Z"
   },
   {
    "duration": 21,
    "start_time": "2024-09-24T04:54:27.292Z"
   },
   {
    "duration": 20,
    "start_time": "2024-09-24T04:54:48.783Z"
   },
   {
    "duration": 17,
    "start_time": "2024-09-24T04:55:47.433Z"
   },
   {
    "duration": 13,
    "start_time": "2024-09-24T04:56:27.136Z"
   },
   {
    "duration": 343,
    "start_time": "2024-09-24T04:56:29.840Z"
   },
   {
    "duration": 38,
    "start_time": "2024-09-24T04:56:40.652Z"
   },
   {
    "duration": 36,
    "start_time": "2024-09-24T04:56:45.765Z"
   },
   {
    "duration": 36,
    "start_time": "2024-09-24T04:56:54.508Z"
   },
   {
    "duration": 37,
    "start_time": "2024-09-24T04:56:57.244Z"
   },
   {
    "duration": 37,
    "start_time": "2024-09-24T04:57:00.974Z"
   },
   {
    "duration": 35,
    "start_time": "2024-09-24T04:57:03.881Z"
   },
   {
    "duration": 36,
    "start_time": "2024-09-24T04:57:12.582Z"
   },
   {
    "duration": 315,
    "start_time": "2024-09-24T04:57:24.987Z"
   },
   {
    "duration": 100,
    "start_time": "2024-09-24T04:57:25.304Z"
   },
   {
    "duration": 13,
    "start_time": "2024-09-24T04:57:25.406Z"
   },
   {
    "duration": 33,
    "start_time": "2024-09-24T04:57:25.422Z"
   },
   {
    "duration": 3,
    "start_time": "2024-09-24T04:57:25.456Z"
   },
   {
    "duration": 4,
    "start_time": "2024-09-24T04:57:25.461Z"
   },
   {
    "duration": 5,
    "start_time": "2024-09-24T04:57:25.467Z"
   },
   {
    "duration": 3,
    "start_time": "2024-09-24T04:57:25.474Z"
   },
   {
    "duration": 3,
    "start_time": "2024-09-24T04:57:25.479Z"
   },
   {
    "duration": 17,
    "start_time": "2024-09-24T04:57:25.485Z"
   },
   {
    "duration": 49,
    "start_time": "2024-09-24T04:57:25.504Z"
   },
   {
    "duration": 18,
    "start_time": "2024-09-24T04:57:25.554Z"
   },
   {
    "duration": 45,
    "start_time": "2024-09-24T04:57:25.573Z"
   },
   {
    "duration": 70,
    "start_time": "2024-09-24T04:57:25.620Z"
   },
   {
    "duration": 51,
    "start_time": "2024-09-24T04:57:25.692Z"
   },
   {
    "duration": 5,
    "start_time": "2024-09-24T04:57:25.745Z"
   },
   {
    "duration": 3,
    "start_time": "2024-09-24T04:57:25.752Z"
   },
   {
    "duration": 8,
    "start_time": "2024-09-24T04:57:25.757Z"
   },
   {
    "duration": 19,
    "start_time": "2024-09-24T04:57:25.767Z"
   },
   {
    "duration": 9,
    "start_time": "2024-09-24T04:57:25.788Z"
   },
   {
    "duration": 44,
    "start_time": "2024-09-24T04:57:25.799Z"
   },
   {
    "duration": 3,
    "start_time": "2024-09-24T04:57:25.845Z"
   },
   {
    "duration": 13,
    "start_time": "2024-09-24T04:57:25.850Z"
   },
   {
    "duration": 11,
    "start_time": "2024-09-24T04:57:25.865Z"
   },
   {
    "duration": 13,
    "start_time": "2024-09-24T04:57:25.877Z"
   },
   {
    "duration": 12,
    "start_time": "2024-09-24T04:57:25.892Z"
   },
   {
    "duration": 46,
    "start_time": "2024-09-24T04:57:25.907Z"
   },
   {
    "duration": 12,
    "start_time": "2024-09-24T04:57:25.957Z"
   },
   {
    "duration": 96,
    "start_time": "2024-09-24T04:57:43.611Z"
   },
   {
    "duration": 787,
    "start_time": "2024-09-24T04:58:27.431Z"
   },
   {
    "duration": 40,
    "start_time": "2024-09-24T04:58:39.000Z"
   },
   {
    "duration": 19,
    "start_time": "2024-09-24T04:58:46.337Z"
   },
   {
    "duration": 10,
    "start_time": "2024-09-24T04:59:16.337Z"
   },
   {
    "duration": 5,
    "start_time": "2024-09-24T04:59:18.728Z"
   },
   {
    "duration": 150,
    "start_time": "2024-09-24T04:59:20.810Z"
   },
   {
    "duration": 297,
    "start_time": "2024-09-24T04:59:26.904Z"
   },
   {
    "duration": 101,
    "start_time": "2024-09-24T04:59:27.203Z"
   },
   {
    "duration": 13,
    "start_time": "2024-09-24T04:59:27.306Z"
   },
   {
    "duration": 31,
    "start_time": "2024-09-24T04:59:27.321Z"
   },
   {
    "duration": 3,
    "start_time": "2024-09-24T04:59:27.355Z"
   },
   {
    "duration": 4,
    "start_time": "2024-09-24T04:59:27.360Z"
   },
   {
    "duration": 4,
    "start_time": "2024-09-24T04:59:27.365Z"
   },
   {
    "duration": 4,
    "start_time": "2024-09-24T04:59:27.371Z"
   },
   {
    "duration": 3,
    "start_time": "2024-09-24T04:59:27.376Z"
   },
   {
    "duration": 19,
    "start_time": "2024-09-24T04:59:27.382Z"
   },
   {
    "duration": 14,
    "start_time": "2024-09-24T04:59:27.443Z"
   },
   {
    "duration": 19,
    "start_time": "2024-09-24T04:59:27.459Z"
   },
   {
    "duration": 64,
    "start_time": "2024-09-24T04:59:27.480Z"
   },
   {
    "duration": 51,
    "start_time": "2024-09-24T04:59:27.546Z"
   },
   {
    "duration": 54,
    "start_time": "2024-09-24T04:59:27.599Z"
   },
   {
    "duration": 7,
    "start_time": "2024-09-24T04:59:27.655Z"
   },
   {
    "duration": 3,
    "start_time": "2024-09-24T04:59:27.664Z"
   },
   {
    "duration": 8,
    "start_time": "2024-09-24T04:59:27.668Z"
   },
   {
    "duration": 9,
    "start_time": "2024-09-24T04:59:27.678Z"
   },
   {
    "duration": 5,
    "start_time": "2024-09-24T04:59:27.690Z"
   },
   {
    "duration": 5,
    "start_time": "2024-09-24T04:59:27.696Z"
   },
   {
    "duration": 41,
    "start_time": "2024-09-24T04:59:27.703Z"
   },
   {
    "duration": 5,
    "start_time": "2024-09-24T04:59:27.746Z"
   },
   {
    "duration": 4,
    "start_time": "2024-09-24T04:59:27.752Z"
   },
   {
    "duration": 4,
    "start_time": "2024-09-24T04:59:27.758Z"
   },
   {
    "duration": 4,
    "start_time": "2024-09-24T04:59:27.764Z"
   },
   {
    "duration": 5,
    "start_time": "2024-09-24T04:59:27.769Z"
   },
   {
    "duration": 4,
    "start_time": "2024-09-24T04:59:27.777Z"
   },
   {
    "duration": 23,
    "start_time": "2024-09-24T04:59:38.039Z"
   },
   {
    "duration": 16,
    "start_time": "2024-09-24T04:59:46.309Z"
   },
   {
    "duration": 14,
    "start_time": "2024-09-24T05:00:06.271Z"
   },
   {
    "duration": 5,
    "start_time": "2024-09-24T05:00:34.651Z"
   },
   {
    "duration": 15,
    "start_time": "2024-09-24T05:00:40.233Z"
   },
   {
    "duration": 12,
    "start_time": "2024-09-24T05:00:49.482Z"
   },
   {
    "duration": 4,
    "start_time": "2024-09-24T05:02:43.176Z"
   },
   {
    "duration": 3,
    "start_time": "2024-09-24T05:03:04.045Z"
   },
   {
    "duration": 178,
    "start_time": "2024-09-24T05:03:08.339Z"
   },
   {
    "duration": 364,
    "start_time": "2024-09-24T05:03:27.374Z"
   },
   {
    "duration": 5,
    "start_time": "2024-09-24T05:03:46.930Z"
   },
   {
    "duration": 327,
    "start_time": "2024-09-24T05:03:52.851Z"
   },
   {
    "duration": 101,
    "start_time": "2024-09-24T05:03:53.181Z"
   },
   {
    "duration": 13,
    "start_time": "2024-09-24T05:03:53.283Z"
   },
   {
    "duration": 25,
    "start_time": "2024-09-24T05:03:53.299Z"
   },
   {
    "duration": 4,
    "start_time": "2024-09-24T05:03:53.343Z"
   },
   {
    "duration": 4,
    "start_time": "2024-09-24T05:03:53.349Z"
   },
   {
    "duration": 4,
    "start_time": "2024-09-24T05:03:53.354Z"
   },
   {
    "duration": 4,
    "start_time": "2024-09-24T05:03:53.360Z"
   },
   {
    "duration": 3,
    "start_time": "2024-09-24T05:03:53.366Z"
   },
   {
    "duration": 17,
    "start_time": "2024-09-24T05:03:53.372Z"
   },
   {
    "duration": 12,
    "start_time": "2024-09-24T05:03:53.391Z"
   },
   {
    "duration": 57,
    "start_time": "2024-09-24T05:03:53.404Z"
   },
   {
    "duration": 46,
    "start_time": "2024-09-24T05:03:53.463Z"
   },
   {
    "duration": 71,
    "start_time": "2024-09-24T05:03:53.511Z"
   },
   {
    "duration": 41,
    "start_time": "2024-09-24T05:03:53.584Z"
   },
   {
    "duration": 16,
    "start_time": "2024-09-24T05:03:53.627Z"
   },
   {
    "duration": 4,
    "start_time": "2024-09-24T05:03:53.644Z"
   },
   {
    "duration": 9,
    "start_time": "2024-09-24T05:03:53.649Z"
   },
   {
    "duration": 36,
    "start_time": "2024-09-24T05:03:53.660Z"
   },
   {
    "duration": 11,
    "start_time": "2024-09-24T05:03:53.698Z"
   },
   {
    "duration": 37,
    "start_time": "2024-09-24T05:03:53.711Z"
   },
   {
    "duration": 4,
    "start_time": "2024-09-24T05:03:53.750Z"
   },
   {
    "duration": 15,
    "start_time": "2024-09-24T05:03:53.755Z"
   },
   {
    "duration": 13,
    "start_time": "2024-09-24T05:03:53.771Z"
   },
   {
    "duration": 13,
    "start_time": "2024-09-24T05:03:53.785Z"
   },
   {
    "duration": 48,
    "start_time": "2024-09-24T05:03:53.800Z"
   },
   {
    "duration": 15,
    "start_time": "2024-09-24T05:03:53.851Z"
   },
   {
    "duration": 15,
    "start_time": "2024-09-24T05:03:53.872Z"
   },
   {
    "duration": 31,
    "start_time": "2024-09-24T05:05:07.098Z"
   },
   {
    "duration": 206,
    "start_time": "2024-09-24T05:05:23.965Z"
   },
   {
    "duration": 48,
    "start_time": "2024-09-24T05:05:27.671Z"
   },
   {
    "duration": 35,
    "start_time": "2024-09-24T05:05:54.312Z"
   },
   {
    "duration": 37,
    "start_time": "2024-09-24T05:06:26.850Z"
   },
   {
    "duration": 335,
    "start_time": "2024-09-24T05:06:38.278Z"
   },
   {
    "duration": 100,
    "start_time": "2024-09-24T05:06:38.616Z"
   },
   {
    "duration": 13,
    "start_time": "2024-09-24T05:06:38.718Z"
   },
   {
    "duration": 31,
    "start_time": "2024-09-24T05:06:38.733Z"
   },
   {
    "duration": 3,
    "start_time": "2024-09-24T05:06:38.766Z"
   },
   {
    "duration": 4,
    "start_time": "2024-09-24T05:06:38.771Z"
   },
   {
    "duration": 3,
    "start_time": "2024-09-24T05:06:38.777Z"
   },
   {
    "duration": 3,
    "start_time": "2024-09-24T05:06:38.782Z"
   },
   {
    "duration": 4,
    "start_time": "2024-09-24T05:06:38.787Z"
   },
   {
    "duration": 57,
    "start_time": "2024-09-24T05:06:38.794Z"
   },
   {
    "duration": 19,
    "start_time": "2024-09-24T05:06:38.853Z"
   },
   {
    "duration": 24,
    "start_time": "2024-09-24T05:06:38.874Z"
   },
   {
    "duration": 86,
    "start_time": "2024-09-24T05:06:38.900Z"
   },
   {
    "duration": 61,
    "start_time": "2024-09-24T05:06:38.988Z"
   },
   {
    "duration": 46,
    "start_time": "2024-09-24T05:06:39.051Z"
   },
   {
    "duration": 54,
    "start_time": "2024-09-24T05:06:39.099Z"
   },
   {
    "duration": 3,
    "start_time": "2024-09-24T05:06:39.155Z"
   },
   {
    "duration": 8,
    "start_time": "2024-09-24T05:06:39.160Z"
   },
   {
    "duration": 37,
    "start_time": "2024-09-24T05:06:39.169Z"
   },
   {
    "duration": 42,
    "start_time": "2024-09-24T05:06:39.208Z"
   },
   {
    "duration": 16,
    "start_time": "2024-09-24T05:06:39.252Z"
   },
   {
    "duration": 5,
    "start_time": "2024-09-24T05:06:39.271Z"
   },
   {
    "duration": 19,
    "start_time": "2024-09-24T05:06:39.279Z"
   },
   {
    "duration": 14,
    "start_time": "2024-09-24T05:06:39.300Z"
   },
   {
    "duration": 37,
    "start_time": "2024-09-24T05:06:39.316Z"
   },
   {
    "duration": 14,
    "start_time": "2024-09-24T05:06:39.356Z"
   },
   {
    "duration": 16,
    "start_time": "2024-09-24T05:06:39.372Z"
   },
   {
    "duration": 13,
    "start_time": "2024-09-24T05:06:39.391Z"
   },
   {
    "duration": 227,
    "start_time": "2024-09-24T05:07:28.304Z"
   },
   {
    "duration": 16,
    "start_time": "2024-09-24T05:07:59.786Z"
   },
   {
    "duration": 22,
    "start_time": "2024-09-24T05:08:12.920Z"
   },
   {
    "duration": 19,
    "start_time": "2024-09-24T05:08:17.944Z"
   },
   {
    "duration": 24,
    "start_time": "2024-09-24T05:08:40.497Z"
   },
   {
    "duration": 15,
    "start_time": "2024-09-24T05:08:47.403Z"
   },
   {
    "duration": 306,
    "start_time": "2024-09-24T05:09:15.710Z"
   },
   {
    "duration": 35,
    "start_time": "2024-09-24T05:09:36.300Z"
   },
   {
    "duration": 6,
    "start_time": "2024-09-24T05:12:28.730Z"
   },
   {
    "duration": 9,
    "start_time": "2024-09-24T05:12:48.242Z"
   },
   {
    "duration": 10,
    "start_time": "2024-09-24T05:13:03.113Z"
   },
   {
    "duration": 9,
    "start_time": "2024-09-24T05:13:26.190Z"
   },
   {
    "duration": 9,
    "start_time": "2024-09-24T05:13:30.915Z"
   },
   {
    "duration": 11,
    "start_time": "2024-09-24T05:13:39.137Z"
   },
   {
    "duration": 3,
    "start_time": "2024-09-24T05:13:44.428Z"
   },
   {
    "duration": 10,
    "start_time": "2024-09-24T05:13:47.244Z"
   },
   {
    "duration": 278,
    "start_time": "2024-09-24T05:15:01.416Z"
   },
   {
    "duration": 103,
    "start_time": "2024-09-24T05:15:01.696Z"
   },
   {
    "duration": 12,
    "start_time": "2024-09-24T05:15:01.800Z"
   },
   {
    "duration": 30,
    "start_time": "2024-09-24T05:15:01.814Z"
   },
   {
    "duration": 2,
    "start_time": "2024-09-24T05:15:01.847Z"
   },
   {
    "duration": 3,
    "start_time": "2024-09-24T05:15:01.851Z"
   },
   {
    "duration": 3,
    "start_time": "2024-09-24T05:15:01.856Z"
   },
   {
    "duration": 4,
    "start_time": "2024-09-24T05:15:01.860Z"
   },
   {
    "duration": 3,
    "start_time": "2024-09-24T05:15:01.866Z"
   },
   {
    "duration": 17,
    "start_time": "2024-09-24T05:15:01.872Z"
   },
   {
    "duration": 52,
    "start_time": "2024-09-24T05:15:01.891Z"
   },
   {
    "duration": 16,
    "start_time": "2024-09-24T05:15:01.946Z"
   },
   {
    "duration": 52,
    "start_time": "2024-09-24T05:15:01.963Z"
   },
   {
    "duration": 59,
    "start_time": "2024-09-24T05:15:02.017Z"
   },
   {
    "duration": 40,
    "start_time": "2024-09-24T05:15:02.078Z"
   },
   {
    "duration": 49,
    "start_time": "2024-09-24T05:15:02.120Z"
   },
   {
    "duration": 3,
    "start_time": "2024-09-24T05:15:02.171Z"
   },
   {
    "duration": 7,
    "start_time": "2024-09-24T05:15:02.176Z"
   },
   {
    "duration": 35,
    "start_time": "2024-09-24T05:15:02.184Z"
   },
   {
    "duration": 28,
    "start_time": "2024-09-24T05:15:02.222Z"
   },
   {
    "duration": 185,
    "start_time": "2024-09-24T05:15:02.251Z"
   },
   {
    "duration": 0,
    "start_time": "2024-09-24T05:15:02.443Z"
   },
   {
    "duration": 0,
    "start_time": "2024-09-24T05:15:02.444Z"
   },
   {
    "duration": 0,
    "start_time": "2024-09-24T05:15:02.446Z"
   },
   {
    "duration": 0,
    "start_time": "2024-09-24T05:15:02.447Z"
   },
   {
    "duration": 0,
    "start_time": "2024-09-24T05:15:02.448Z"
   },
   {
    "duration": 0,
    "start_time": "2024-09-24T05:15:02.450Z"
   },
   {
    "duration": 0,
    "start_time": "2024-09-24T05:15:02.451Z"
   },
   {
    "duration": 9,
    "start_time": "2024-09-24T05:15:28.895Z"
   },
   {
    "duration": 9,
    "start_time": "2024-09-24T05:15:36.134Z"
   },
   {
    "duration": 10,
    "start_time": "2024-09-24T05:15:42.353Z"
   },
   {
    "duration": 11,
    "start_time": "2024-09-24T05:15:45.946Z"
   },
   {
    "duration": 11,
    "start_time": "2024-09-24T05:15:47.855Z"
   },
   {
    "duration": 280,
    "start_time": "2024-09-24T05:16:09.526Z"
   },
   {
    "duration": 95,
    "start_time": "2024-09-24T05:16:09.808Z"
   },
   {
    "duration": 13,
    "start_time": "2024-09-24T05:16:09.904Z"
   },
   {
    "duration": 30,
    "start_time": "2024-09-24T05:16:09.920Z"
   },
   {
    "duration": 3,
    "start_time": "2024-09-24T05:16:09.952Z"
   },
   {
    "duration": 4,
    "start_time": "2024-09-24T05:16:09.956Z"
   },
   {
    "duration": 4,
    "start_time": "2024-09-24T05:16:09.961Z"
   },
   {
    "duration": 3,
    "start_time": "2024-09-24T05:16:09.966Z"
   },
   {
    "duration": 3,
    "start_time": "2024-09-24T05:16:09.971Z"
   },
   {
    "duration": 16,
    "start_time": "2024-09-24T05:16:09.978Z"
   },
   {
    "duration": 51,
    "start_time": "2024-09-24T05:16:09.996Z"
   },
   {
    "duration": 16,
    "start_time": "2024-09-24T05:16:10.048Z"
   },
   {
    "duration": 42,
    "start_time": "2024-09-24T05:16:10.066Z"
   },
   {
    "duration": 62,
    "start_time": "2024-09-24T05:16:10.109Z"
   },
   {
    "duration": 38,
    "start_time": "2024-09-24T05:16:10.173Z"
   },
   {
    "duration": 46,
    "start_time": "2024-09-24T05:16:10.213Z"
   },
   {
    "duration": 3,
    "start_time": "2024-09-24T05:16:10.262Z"
   },
   {
    "duration": 7,
    "start_time": "2024-09-24T05:16:10.266Z"
   },
   {
    "duration": 34,
    "start_time": "2024-09-24T05:16:10.275Z"
   },
   {
    "duration": 9,
    "start_time": "2024-09-24T05:16:10.311Z"
   },
   {
    "duration": 8,
    "start_time": "2024-09-24T05:16:10.342Z"
   },
   {
    "duration": 3,
    "start_time": "2024-09-24T05:16:10.352Z"
   },
   {
    "duration": 13,
    "start_time": "2024-09-24T05:16:10.356Z"
   },
   {
    "duration": 10,
    "start_time": "2024-09-24T05:16:10.371Z"
   },
   {
    "duration": 10,
    "start_time": "2024-09-24T05:16:10.383Z"
   },
   {
    "duration": 10,
    "start_time": "2024-09-24T05:16:10.394Z"
   },
   {
    "duration": 43,
    "start_time": "2024-09-24T05:16:10.406Z"
   },
   {
    "duration": 10,
    "start_time": "2024-09-24T05:16:10.452Z"
   }
  ],
  "colab": {
   "collapsed_sections": [
    "E0vqbgi9ay0H",
    "VUC88oWjTJw2"
   ],
   "provenance": []
  },
  "kernelspec": {
   "display_name": "Python 3 (ipykernel)",
   "language": "python",
   "name": "python3"
  },
  "language_info": {
   "codemirror_mode": {
    "name": "ipython",
    "version": 3
   },
   "file_extension": ".py",
   "mimetype": "text/x-python",
   "name": "python",
   "nbconvert_exporter": "python",
   "pygments_lexer": "ipython3",
   "version": "3.9.19"
  },
  "toc": {
   "base_numbering": 1,
   "nav_menu": {},
   "number_sections": true,
   "sideBar": true,
   "skip_h1_title": true,
   "title_cell": "Table of Contents",
   "title_sidebar": "Contents",
   "toc_cell": false,
   "toc_position": {},
   "toc_section_display": true,
   "toc_window_display": false
  }
 },
 "nbformat": 4,
 "nbformat_minor": 1
}
